{
 "cells": [
  {
   "cell_type": "markdown",
   "id": "f5f3398a",
   "metadata": {
    "papermill": {
     "duration": 0.01486,
     "end_time": "2022-08-07T16:09:18.084869",
     "exception": false,
     "start_time": "2022-08-07T16:09:18.070009",
     "status": "completed"
    },
    "tags": []
   },
   "source": []
  },
  {
   "cell_type": "code",
   "execution_count": 1,
   "id": "1a8ae720",
   "metadata": {
    "execution": {
     "iopub.execute_input": "2022-08-07T16:09:18.114938Z",
     "iopub.status.busy": "2022-08-07T16:09:18.114101Z",
     "iopub.status.idle": "2022-08-07T16:09:20.754204Z",
     "shell.execute_reply": "2022-08-07T16:09:20.753101Z"
    },
    "papermill": {
     "duration": 2.657916,
     "end_time": "2022-08-07T16:09:20.757118",
     "exception": false,
     "start_time": "2022-08-07T16:09:18.099202",
     "status": "completed"
    },
    "tags": []
   },
   "outputs": [],
   "source": [
    "import numpy as np\n",
    "import pandas as pd\n",
    "import seaborn as sns\n",
    "import matplotlib.pyplot as plt\n",
    "import plotly.express as px\n",
    "\n",
    "#Feature Engineering\n",
    "from sklearn.model_selection import train_test_split\n",
    "from sklearn.preprocessing import StandardScaler\n",
    "\n",
    "#Modelling\n",
    "from sklearn.linear_model import LinearRegression\n",
    "from sklearn.tree import DecisionTreeClassifier\n",
    "from sklearn.ensemble import RandomForestClassifier\n",
    "\n",
    "from sklearn.linear_model import LogisticRegression\n",
    "\n",
    "#Evaluation\n",
    "from sklearn.metrics import accuracy_score, precision_score, recall_score, f1_score, cohen_kappa_score, roc_auc_score, confusion_matrix\n",
    "from sklearn.metrics import classification_report\n",
    "\n",
    "import os"
   ]
  },
  {
   "cell_type": "code",
   "execution_count": 2,
   "id": "6e8b2771",
   "metadata": {
    "execution": {
     "iopub.execute_input": "2022-08-07T16:09:20.789818Z",
     "iopub.status.busy": "2022-08-07T16:09:20.789019Z",
     "iopub.status.idle": "2022-08-07T16:09:22.686989Z",
     "shell.execute_reply": "2022-08-07T16:09:22.685605Z"
    },
    "papermill": {
     "duration": 1.917365,
     "end_time": "2022-08-07T16:09:22.690133",
     "exception": false,
     "start_time": "2022-08-07T16:09:20.772768",
     "status": "completed"
    },
    "tags": []
   },
   "outputs": [],
   "source": [
    "df = pd.read_csv('../input/telecom-churn-case-study-hackathon-38/train (1).csv')"
   ]
  },
  {
   "cell_type": "code",
   "execution_count": 3,
   "id": "13e4d4ae",
   "metadata": {
    "execution": {
     "iopub.execute_input": "2022-08-07T16:09:22.721522Z",
     "iopub.status.busy": "2022-08-07T16:09:22.721084Z",
     "iopub.status.idle": "2022-08-07T16:09:22.764206Z",
     "shell.execute_reply": "2022-08-07T16:09:22.762952Z"
    },
    "papermill": {
     "duration": 0.062071,
     "end_time": "2022-08-07T16:09:22.767366",
     "exception": false,
     "start_time": "2022-08-07T16:09:22.705295",
     "status": "completed"
    },
    "tags": []
   },
   "outputs": [
    {
     "data": {
      "text/html": [
       "<div>\n",
       "<style scoped>\n",
       "    .dataframe tbody tr th:only-of-type {\n",
       "        vertical-align: middle;\n",
       "    }\n",
       "\n",
       "    .dataframe tbody tr th {\n",
       "        vertical-align: top;\n",
       "    }\n",
       "\n",
       "    .dataframe thead th {\n",
       "        text-align: right;\n",
       "    }\n",
       "</style>\n",
       "<table border=\"1\" class=\"dataframe\">\n",
       "  <thead>\n",
       "    <tr style=\"text-align: right;\">\n",
       "      <th></th>\n",
       "      <th>id</th>\n",
       "      <th>circle_id</th>\n",
       "      <th>loc_og_t2o_mou</th>\n",
       "      <th>std_og_t2o_mou</th>\n",
       "      <th>loc_ic_t2o_mou</th>\n",
       "      <th>last_date_of_month_6</th>\n",
       "      <th>last_date_of_month_7</th>\n",
       "      <th>last_date_of_month_8</th>\n",
       "      <th>arpu_6</th>\n",
       "      <th>arpu_7</th>\n",
       "      <th>...</th>\n",
       "      <th>sachet_3g_7</th>\n",
       "      <th>sachet_3g_8</th>\n",
       "      <th>fb_user_6</th>\n",
       "      <th>fb_user_7</th>\n",
       "      <th>fb_user_8</th>\n",
       "      <th>aon</th>\n",
       "      <th>aug_vbc_3g</th>\n",
       "      <th>jul_vbc_3g</th>\n",
       "      <th>jun_vbc_3g</th>\n",
       "      <th>churn_probability</th>\n",
       "    </tr>\n",
       "  </thead>\n",
       "  <tbody>\n",
       "    <tr>\n",
       "      <th>0</th>\n",
       "      <td>0</td>\n",
       "      <td>109</td>\n",
       "      <td>0.0</td>\n",
       "      <td>0.0</td>\n",
       "      <td>0.0</td>\n",
       "      <td>6/30/2014</td>\n",
       "      <td>7/31/2014</td>\n",
       "      <td>8/31/2014</td>\n",
       "      <td>31.277</td>\n",
       "      <td>87.009</td>\n",
       "      <td>...</td>\n",
       "      <td>0</td>\n",
       "      <td>0</td>\n",
       "      <td>NaN</td>\n",
       "      <td>NaN</td>\n",
       "      <td>NaN</td>\n",
       "      <td>1958</td>\n",
       "      <td>0.0</td>\n",
       "      <td>0.0</td>\n",
       "      <td>0.0</td>\n",
       "      <td>0</td>\n",
       "    </tr>\n",
       "    <tr>\n",
       "      <th>1</th>\n",
       "      <td>1</td>\n",
       "      <td>109</td>\n",
       "      <td>0.0</td>\n",
       "      <td>0.0</td>\n",
       "      <td>0.0</td>\n",
       "      <td>6/30/2014</td>\n",
       "      <td>7/31/2014</td>\n",
       "      <td>8/31/2014</td>\n",
       "      <td>0.000</td>\n",
       "      <td>122.787</td>\n",
       "      <td>...</td>\n",
       "      <td>0</td>\n",
       "      <td>0</td>\n",
       "      <td>NaN</td>\n",
       "      <td>1.0</td>\n",
       "      <td>NaN</td>\n",
       "      <td>710</td>\n",
       "      <td>0.0</td>\n",
       "      <td>0.0</td>\n",
       "      <td>0.0</td>\n",
       "      <td>0</td>\n",
       "    </tr>\n",
       "    <tr>\n",
       "      <th>2</th>\n",
       "      <td>2</td>\n",
       "      <td>109</td>\n",
       "      <td>0.0</td>\n",
       "      <td>0.0</td>\n",
       "      <td>0.0</td>\n",
       "      <td>6/30/2014</td>\n",
       "      <td>7/31/2014</td>\n",
       "      <td>8/31/2014</td>\n",
       "      <td>60.806</td>\n",
       "      <td>103.176</td>\n",
       "      <td>...</td>\n",
       "      <td>0</td>\n",
       "      <td>0</td>\n",
       "      <td>NaN</td>\n",
       "      <td>NaN</td>\n",
       "      <td>NaN</td>\n",
       "      <td>882</td>\n",
       "      <td>0.0</td>\n",
       "      <td>0.0</td>\n",
       "      <td>0.0</td>\n",
       "      <td>0</td>\n",
       "    </tr>\n",
       "    <tr>\n",
       "      <th>3</th>\n",
       "      <td>3</td>\n",
       "      <td>109</td>\n",
       "      <td>0.0</td>\n",
       "      <td>0.0</td>\n",
       "      <td>0.0</td>\n",
       "      <td>6/30/2014</td>\n",
       "      <td>7/31/2014</td>\n",
       "      <td>8/31/2014</td>\n",
       "      <td>156.362</td>\n",
       "      <td>205.260</td>\n",
       "      <td>...</td>\n",
       "      <td>0</td>\n",
       "      <td>0</td>\n",
       "      <td>NaN</td>\n",
       "      <td>NaN</td>\n",
       "      <td>NaN</td>\n",
       "      <td>982</td>\n",
       "      <td>0.0</td>\n",
       "      <td>0.0</td>\n",
       "      <td>0.0</td>\n",
       "      <td>0</td>\n",
       "    </tr>\n",
       "    <tr>\n",
       "      <th>4</th>\n",
       "      <td>4</td>\n",
       "      <td>109</td>\n",
       "      <td>0.0</td>\n",
       "      <td>0.0</td>\n",
       "      <td>0.0</td>\n",
       "      <td>6/30/2014</td>\n",
       "      <td>7/31/2014</td>\n",
       "      <td>8/31/2014</td>\n",
       "      <td>240.708</td>\n",
       "      <td>128.191</td>\n",
       "      <td>...</td>\n",
       "      <td>1</td>\n",
       "      <td>0</td>\n",
       "      <td>1.0</td>\n",
       "      <td>1.0</td>\n",
       "      <td>1.0</td>\n",
       "      <td>647</td>\n",
       "      <td>0.0</td>\n",
       "      <td>0.0</td>\n",
       "      <td>0.0</td>\n",
       "      <td>0</td>\n",
       "    </tr>\n",
       "  </tbody>\n",
       "</table>\n",
       "<p>5 rows × 172 columns</p>\n",
       "</div>"
      ],
      "text/plain": [
       "   id  circle_id  loc_og_t2o_mou  std_og_t2o_mou  loc_ic_t2o_mou  \\\n",
       "0   0        109             0.0             0.0             0.0   \n",
       "1   1        109             0.0             0.0             0.0   \n",
       "2   2        109             0.0             0.0             0.0   \n",
       "3   3        109             0.0             0.0             0.0   \n",
       "4   4        109             0.0             0.0             0.0   \n",
       "\n",
       "  last_date_of_month_6 last_date_of_month_7 last_date_of_month_8   arpu_6  \\\n",
       "0            6/30/2014            7/31/2014            8/31/2014   31.277   \n",
       "1            6/30/2014            7/31/2014            8/31/2014    0.000   \n",
       "2            6/30/2014            7/31/2014            8/31/2014   60.806   \n",
       "3            6/30/2014            7/31/2014            8/31/2014  156.362   \n",
       "4            6/30/2014            7/31/2014            8/31/2014  240.708   \n",
       "\n",
       "    arpu_7  ...  sachet_3g_7  sachet_3g_8  fb_user_6  fb_user_7  fb_user_8  \\\n",
       "0   87.009  ...            0            0        NaN        NaN        NaN   \n",
       "1  122.787  ...            0            0        NaN        1.0        NaN   \n",
       "2  103.176  ...            0            0        NaN        NaN        NaN   \n",
       "3  205.260  ...            0            0        NaN        NaN        NaN   \n",
       "4  128.191  ...            1            0        1.0        1.0        1.0   \n",
       "\n",
       "    aon  aug_vbc_3g  jul_vbc_3g  jun_vbc_3g  churn_probability  \n",
       "0  1958         0.0         0.0         0.0                  0  \n",
       "1   710         0.0         0.0         0.0                  0  \n",
       "2   882         0.0         0.0         0.0                  0  \n",
       "3   982         0.0         0.0         0.0                  0  \n",
       "4   647         0.0         0.0         0.0                  0  \n",
       "\n",
       "[5 rows x 172 columns]"
      ]
     },
     "execution_count": 3,
     "metadata": {},
     "output_type": "execute_result"
    }
   ],
   "source": [
    "df.head()"
   ]
  },
  {
   "cell_type": "code",
   "execution_count": 4,
   "id": "966aa6d7",
   "metadata": {
    "execution": {
     "iopub.execute_input": "2022-08-07T16:09:22.798273Z",
     "iopub.status.busy": "2022-08-07T16:09:22.797868Z",
     "iopub.status.idle": "2022-08-07T16:09:22.830769Z",
     "shell.execute_reply": "2022-08-07T16:09:22.828368Z"
    },
    "papermill": {
     "duration": 0.051961,
     "end_time": "2022-08-07T16:09:22.834107",
     "exception": false,
     "start_time": "2022-08-07T16:09:22.782146",
     "status": "completed"
    },
    "tags": []
   },
   "outputs": [
    {
     "name": "stdout",
     "output_type": "stream",
     "text": [
      "<class 'pandas.core.frame.DataFrame'>\n",
      "RangeIndex: 69999 entries, 0 to 69998\n",
      "Columns: 172 entries, id to churn_probability\n",
      "dtypes: float64(135), int64(28), object(9)\n",
      "memory usage: 91.9+ MB\n"
     ]
    }
   ],
   "source": [
    "df.info()"
   ]
  },
  {
   "cell_type": "code",
   "execution_count": 5,
   "id": "ba9a5b9b",
   "metadata": {
    "execution": {
     "iopub.execute_input": "2022-08-07T16:09:22.864304Z",
     "iopub.status.busy": "2022-08-07T16:09:22.863882Z",
     "iopub.status.idle": "2022-08-07T16:09:23.752603Z",
     "shell.execute_reply": "2022-08-07T16:09:23.751699Z"
    },
    "papermill": {
     "duration": 0.906397,
     "end_time": "2022-08-07T16:09:23.754711",
     "exception": false,
     "start_time": "2022-08-07T16:09:22.848314",
     "status": "completed"
    },
    "tags": []
   },
   "outputs": [
    {
     "data": {
      "text/html": [
       "<div>\n",
       "<style scoped>\n",
       "    .dataframe tbody tr th:only-of-type {\n",
       "        vertical-align: middle;\n",
       "    }\n",
       "\n",
       "    .dataframe tbody tr th {\n",
       "        vertical-align: top;\n",
       "    }\n",
       "\n",
       "    .dataframe thead th {\n",
       "        text-align: right;\n",
       "    }\n",
       "</style>\n",
       "<table border=\"1\" class=\"dataframe\">\n",
       "  <thead>\n",
       "    <tr style=\"text-align: right;\">\n",
       "      <th></th>\n",
       "      <th>count</th>\n",
       "      <th>mean</th>\n",
       "      <th>std</th>\n",
       "      <th>min</th>\n",
       "      <th>25%</th>\n",
       "      <th>50%</th>\n",
       "      <th>75%</th>\n",
       "      <th>max</th>\n",
       "    </tr>\n",
       "  </thead>\n",
       "  <tbody>\n",
       "    <tr>\n",
       "      <th>id</th>\n",
       "      <td>69999.0</td>\n",
       "      <td>34999.000000</td>\n",
       "      <td>20207.115084</td>\n",
       "      <td>0.0</td>\n",
       "      <td>17499.5</td>\n",
       "      <td>34999.0</td>\n",
       "      <td>52498.5</td>\n",
       "      <td>69998.00</td>\n",
       "    </tr>\n",
       "    <tr>\n",
       "      <th>circle_id</th>\n",
       "      <td>69999.0</td>\n",
       "      <td>109.000000</td>\n",
       "      <td>0.000000</td>\n",
       "      <td>109.0</td>\n",
       "      <td>109.0</td>\n",
       "      <td>109.0</td>\n",
       "      <td>109.0</td>\n",
       "      <td>109.00</td>\n",
       "    </tr>\n",
       "    <tr>\n",
       "      <th>loc_og_t2o_mou</th>\n",
       "      <td>69297.0</td>\n",
       "      <td>0.000000</td>\n",
       "      <td>0.000000</td>\n",
       "      <td>0.0</td>\n",
       "      <td>0.0</td>\n",
       "      <td>0.0</td>\n",
       "      <td>0.0</td>\n",
       "      <td>0.00</td>\n",
       "    </tr>\n",
       "    <tr>\n",
       "      <th>std_og_t2o_mou</th>\n",
       "      <td>69297.0</td>\n",
       "      <td>0.000000</td>\n",
       "      <td>0.000000</td>\n",
       "      <td>0.0</td>\n",
       "      <td>0.0</td>\n",
       "      <td>0.0</td>\n",
       "      <td>0.0</td>\n",
       "      <td>0.00</td>\n",
       "    </tr>\n",
       "    <tr>\n",
       "      <th>loc_ic_t2o_mou</th>\n",
       "      <td>69297.0</td>\n",
       "      <td>0.000000</td>\n",
       "      <td>0.000000</td>\n",
       "      <td>0.0</td>\n",
       "      <td>0.0</td>\n",
       "      <td>0.0</td>\n",
       "      <td>0.0</td>\n",
       "      <td>0.00</td>\n",
       "    </tr>\n",
       "    <tr>\n",
       "      <th>...</th>\n",
       "      <td>...</td>\n",
       "      <td>...</td>\n",
       "      <td>...</td>\n",
       "      <td>...</td>\n",
       "      <td>...</td>\n",
       "      <td>...</td>\n",
       "      <td>...</td>\n",
       "      <td>...</td>\n",
       "    </tr>\n",
       "    <tr>\n",
       "      <th>aon</th>\n",
       "      <td>69999.0</td>\n",
       "      <td>1220.639709</td>\n",
       "      <td>952.426321</td>\n",
       "      <td>180.0</td>\n",
       "      <td>468.0</td>\n",
       "      <td>868.0</td>\n",
       "      <td>1813.0</td>\n",
       "      <td>4337.00</td>\n",
       "    </tr>\n",
       "    <tr>\n",
       "      <th>aug_vbc_3g</th>\n",
       "      <td>69999.0</td>\n",
       "      <td>68.108597</td>\n",
       "      <td>269.328659</td>\n",
       "      <td>0.0</td>\n",
       "      <td>0.0</td>\n",
       "      <td>0.0</td>\n",
       "      <td>0.0</td>\n",
       "      <td>12916.22</td>\n",
       "    </tr>\n",
       "    <tr>\n",
       "      <th>jul_vbc_3g</th>\n",
       "      <td>69999.0</td>\n",
       "      <td>65.935830</td>\n",
       "      <td>267.899034</td>\n",
       "      <td>0.0</td>\n",
       "      <td>0.0</td>\n",
       "      <td>0.0</td>\n",
       "      <td>0.0</td>\n",
       "      <td>9165.60</td>\n",
       "    </tr>\n",
       "    <tr>\n",
       "      <th>jun_vbc_3g</th>\n",
       "      <td>69999.0</td>\n",
       "      <td>60.076740</td>\n",
       "      <td>257.226810</td>\n",
       "      <td>0.0</td>\n",
       "      <td>0.0</td>\n",
       "      <td>0.0</td>\n",
       "      <td>0.0</td>\n",
       "      <td>11166.21</td>\n",
       "    </tr>\n",
       "    <tr>\n",
       "      <th>churn_probability</th>\n",
       "      <td>69999.0</td>\n",
       "      <td>0.101887</td>\n",
       "      <td>0.302502</td>\n",
       "      <td>0.0</td>\n",
       "      <td>0.0</td>\n",
       "      <td>0.0</td>\n",
       "      <td>0.0</td>\n",
       "      <td>1.00</td>\n",
       "    </tr>\n",
       "  </tbody>\n",
       "</table>\n",
       "<p>163 rows × 8 columns</p>\n",
       "</div>"
      ],
      "text/plain": [
       "                     count          mean           std    min      25%  \\\n",
       "id                 69999.0  34999.000000  20207.115084    0.0  17499.5   \n",
       "circle_id          69999.0    109.000000      0.000000  109.0    109.0   \n",
       "loc_og_t2o_mou     69297.0      0.000000      0.000000    0.0      0.0   \n",
       "std_og_t2o_mou     69297.0      0.000000      0.000000    0.0      0.0   \n",
       "loc_ic_t2o_mou     69297.0      0.000000      0.000000    0.0      0.0   \n",
       "...                    ...           ...           ...    ...      ...   \n",
       "aon                69999.0   1220.639709    952.426321  180.0    468.0   \n",
       "aug_vbc_3g         69999.0     68.108597    269.328659    0.0      0.0   \n",
       "jul_vbc_3g         69999.0     65.935830    267.899034    0.0      0.0   \n",
       "jun_vbc_3g         69999.0     60.076740    257.226810    0.0      0.0   \n",
       "churn_probability  69999.0      0.101887      0.302502    0.0      0.0   \n",
       "\n",
       "                       50%      75%       max  \n",
       "id                 34999.0  52498.5  69998.00  \n",
       "circle_id            109.0    109.0    109.00  \n",
       "loc_og_t2o_mou         0.0      0.0      0.00  \n",
       "std_og_t2o_mou         0.0      0.0      0.00  \n",
       "loc_ic_t2o_mou         0.0      0.0      0.00  \n",
       "...                    ...      ...       ...  \n",
       "aon                  868.0   1813.0   4337.00  \n",
       "aug_vbc_3g             0.0      0.0  12916.22  \n",
       "jul_vbc_3g             0.0      0.0   9165.60  \n",
       "jun_vbc_3g             0.0      0.0  11166.21  \n",
       "churn_probability      0.0      0.0      1.00  \n",
       "\n",
       "[163 rows x 8 columns]"
      ]
     },
     "execution_count": 5,
     "metadata": {},
     "output_type": "execute_result"
    }
   ],
   "source": [
    "df.describe().T"
   ]
  },
  {
   "cell_type": "code",
   "execution_count": 6,
   "id": "d6a5a1b5",
   "metadata": {
    "execution": {
     "iopub.execute_input": "2022-08-07T16:09:23.785091Z",
     "iopub.status.busy": "2022-08-07T16:09:23.784624Z",
     "iopub.status.idle": "2022-08-07T16:09:23.791776Z",
     "shell.execute_reply": "2022-08-07T16:09:23.790656Z"
    },
    "papermill": {
     "duration": 0.025358,
     "end_time": "2022-08-07T16:09:23.794190",
     "exception": false,
     "start_time": "2022-08-07T16:09:23.768832",
     "status": "completed"
    },
    "tags": []
   },
   "outputs": [
    {
     "data": {
      "text/plain": [
       "(69999, 172)"
      ]
     },
     "execution_count": 6,
     "metadata": {},
     "output_type": "execute_result"
    }
   ],
   "source": [
    "df.shape"
   ]
  },
  {
   "cell_type": "code",
   "execution_count": 7,
   "id": "6b1aee6d",
   "metadata": {
    "execution": {
     "iopub.execute_input": "2022-08-07T16:09:23.824329Z",
     "iopub.status.busy": "2022-08-07T16:09:23.823922Z",
     "iopub.status.idle": "2022-08-07T16:09:23.880520Z",
     "shell.execute_reply": "2022-08-07T16:09:23.879647Z"
    },
    "papermill": {
     "duration": 0.07448,
     "end_time": "2022-08-07T16:09:23.882912",
     "exception": false,
     "start_time": "2022-08-07T16:09:23.808432",
     "status": "completed"
    },
    "tags": []
   },
   "outputs": [
    {
     "data": {
      "text/plain": [
       "id                     0\n",
       "circle_id              0\n",
       "loc_og_t2o_mou       702\n",
       "std_og_t2o_mou       702\n",
       "loc_ic_t2o_mou       702\n",
       "                    ... \n",
       "aon                    0\n",
       "aug_vbc_3g             0\n",
       "jul_vbc_3g             0\n",
       "jun_vbc_3g             0\n",
       "churn_probability      0\n",
       "Length: 172, dtype: int64"
      ]
     },
     "execution_count": 7,
     "metadata": {},
     "output_type": "execute_result"
    }
   ],
   "source": [
    "df.isnull().sum()"
   ]
  },
  {
   "cell_type": "code",
   "execution_count": 8,
   "id": "8d38e332",
   "metadata": {
    "execution": {
     "iopub.execute_input": "2022-08-07T16:09:23.914136Z",
     "iopub.status.busy": "2022-08-07T16:09:23.913413Z",
     "iopub.status.idle": "2022-08-07T16:09:23.968787Z",
     "shell.execute_reply": "2022-08-07T16:09:23.967721Z"
    },
    "papermill": {
     "duration": 0.073648,
     "end_time": "2022-08-07T16:09:23.971207",
     "exception": false,
     "start_time": "2022-08-07T16:09:23.897559",
     "status": "completed"
    },
    "tags": []
   },
   "outputs": [
    {
     "data": {
      "text/plain": [
       "15.241795813029887"
      ]
     },
     "execution_count": 8,
     "metadata": {},
     "output_type": "execute_result"
    }
   ],
   "source": [
    "percent_null = df.isnull().sum().sum() / np.product(df.shape) * 100\n",
    "percent_null"
   ]
  },
  {
   "cell_type": "code",
   "execution_count": 9,
   "id": "cad2091b",
   "metadata": {
    "execution": {
     "iopub.execute_input": "2022-08-07T16:09:24.002667Z",
     "iopub.status.busy": "2022-08-07T16:09:24.001868Z",
     "iopub.status.idle": "2022-08-07T16:09:24.090110Z",
     "shell.execute_reply": "2022-08-07T16:09:24.088885Z"
    },
    "papermill": {
     "duration": 0.107597,
     "end_time": "2022-08-07T16:09:24.093401",
     "exception": false,
     "start_time": "2022-08-07T16:09:23.985804",
     "status": "completed"
    },
    "tags": []
   },
   "outputs": [
    {
     "name": "stdout",
     "output_type": "stream",
     "text": [
      "id : 0.00\n",
      "circle_id : 0.00\n",
      "loc_og_t2o_mou : 1.00\n",
      "std_og_t2o_mou : 1.00\n",
      "loc_ic_t2o_mou : 1.00\n",
      "last_date_of_month_6 : 0.00\n",
      "last_date_of_month_7 : 0.57\n",
      "last_date_of_month_8 : 1.05\n",
      "arpu_6 : 0.00\n",
      "arpu_7 : 0.00\n",
      "arpu_8 : 0.00\n",
      "onnet_mou_6 : 3.95\n",
      "onnet_mou_7 : 3.84\n",
      "onnet_mou_8 : 5.29\n",
      "offnet_mou_6 : 3.95\n",
      "offnet_mou_7 : 3.84\n",
      "offnet_mou_8 : 5.29\n",
      "roam_ic_mou_6 : 3.95\n",
      "roam_ic_mou_7 : 3.84\n",
      "roam_ic_mou_8 : 5.29\n",
      "roam_og_mou_6 : 3.95\n",
      "roam_og_mou_7 : 3.84\n",
      "roam_og_mou_8 : 5.29\n",
      "loc_og_t2t_mou_6 : 3.95\n",
      "loc_og_t2t_mou_7 : 3.84\n",
      "loc_og_t2t_mou_8 : 5.29\n",
      "loc_og_t2m_mou_6 : 3.95\n",
      "loc_og_t2m_mou_7 : 3.84\n",
      "loc_og_t2m_mou_8 : 5.29\n",
      "loc_og_t2f_mou_6 : 3.95\n",
      "loc_og_t2f_mou_7 : 3.84\n",
      "loc_og_t2f_mou_8 : 5.29\n",
      "loc_og_t2c_mou_6 : 3.95\n",
      "loc_og_t2c_mou_7 : 3.84\n",
      "loc_og_t2c_mou_8 : 5.29\n",
      "loc_og_mou_6 : 3.95\n",
      "loc_og_mou_7 : 3.84\n",
      "loc_og_mou_8 : 5.29\n",
      "std_og_t2t_mou_6 : 3.95\n",
      "std_og_t2t_mou_7 : 3.84\n",
      "std_og_t2t_mou_8 : 5.29\n",
      "std_og_t2m_mou_6 : 3.95\n",
      "std_og_t2m_mou_7 : 3.84\n",
      "std_og_t2m_mou_8 : 5.29\n",
      "std_og_t2f_mou_6 : 3.95\n",
      "std_og_t2f_mou_7 : 3.84\n",
      "std_og_t2f_mou_8 : 5.29\n",
      "std_og_t2c_mou_6 : 3.95\n",
      "std_og_t2c_mou_7 : 3.84\n",
      "std_og_t2c_mou_8 : 5.29\n",
      "std_og_mou_6 : 3.95\n",
      "std_og_mou_7 : 3.84\n",
      "std_og_mou_8 : 5.29\n",
      "isd_og_mou_6 : 3.95\n",
      "isd_og_mou_7 : 3.84\n",
      "isd_og_mou_8 : 5.29\n",
      "spl_og_mou_6 : 3.95\n",
      "spl_og_mou_7 : 3.84\n",
      "spl_og_mou_8 : 5.29\n",
      "og_others_6 : 3.95\n",
      "og_others_7 : 3.84\n",
      "og_others_8 : 5.29\n",
      "total_og_mou_6 : 0.00\n",
      "total_og_mou_7 : 0.00\n",
      "total_og_mou_8 : 0.00\n",
      "loc_ic_t2t_mou_6 : 3.95\n",
      "loc_ic_t2t_mou_7 : 3.84\n",
      "loc_ic_t2t_mou_8 : 5.29\n",
      "loc_ic_t2m_mou_6 : 3.95\n",
      "loc_ic_t2m_mou_7 : 3.84\n",
      "loc_ic_t2m_mou_8 : 5.29\n",
      "loc_ic_t2f_mou_6 : 3.95\n",
      "loc_ic_t2f_mou_7 : 3.84\n",
      "loc_ic_t2f_mou_8 : 5.29\n",
      "loc_ic_mou_6 : 3.95\n",
      "loc_ic_mou_7 : 3.84\n",
      "loc_ic_mou_8 : 5.29\n",
      "std_ic_t2t_mou_6 : 3.95\n",
      "std_ic_t2t_mou_7 : 3.84\n",
      "std_ic_t2t_mou_8 : 5.29\n",
      "std_ic_t2m_mou_6 : 3.95\n",
      "std_ic_t2m_mou_7 : 3.84\n",
      "std_ic_t2m_mou_8 : 5.29\n",
      "std_ic_t2f_mou_6 : 3.95\n",
      "std_ic_t2f_mou_7 : 3.84\n",
      "std_ic_t2f_mou_8 : 5.29\n",
      "std_ic_t2o_mou_6 : 3.95\n",
      "std_ic_t2o_mou_7 : 3.84\n",
      "std_ic_t2o_mou_8 : 5.29\n",
      "std_ic_mou_6 : 3.95\n",
      "std_ic_mou_7 : 3.84\n",
      "std_ic_mou_8 : 5.29\n",
      "total_ic_mou_6 : 0.00\n",
      "total_ic_mou_7 : 0.00\n",
      "total_ic_mou_8 : 0.00\n",
      "spl_ic_mou_6 : 3.95\n",
      "spl_ic_mou_7 : 3.84\n",
      "spl_ic_mou_8 : 5.29\n",
      "isd_ic_mou_6 : 3.95\n",
      "isd_ic_mou_7 : 3.84\n",
      "isd_ic_mou_8 : 5.29\n",
      "ic_others_6 : 3.95\n",
      "ic_others_7 : 3.84\n",
      "ic_others_8 : 5.29\n",
      "total_rech_num_6 : 0.00\n",
      "total_rech_num_7 : 0.00\n",
      "total_rech_num_8 : 0.00\n",
      "total_rech_amt_6 : 0.00\n",
      "total_rech_amt_7 : 0.00\n",
      "total_rech_amt_8 : 0.00\n",
      "max_rech_amt_6 : 0.00\n",
      "max_rech_amt_7 : 0.00\n",
      "max_rech_amt_8 : 0.00\n",
      "date_of_last_rech_6 : 1.57\n",
      "date_of_last_rech_7 : 1.76\n",
      "date_of_last_rech_8 : 3.52\n",
      "last_day_rch_amt_6 : 0.00\n",
      "last_day_rch_amt_7 : 0.00\n",
      "last_day_rch_amt_8 : 0.00\n",
      "date_of_last_rech_data_6 : 74.90\n",
      "date_of_last_rech_data_7 : 74.48\n",
      "date_of_last_rech_data_8 : 73.69\n",
      "total_rech_data_6 : 74.90\n",
      "total_rech_data_7 : 74.48\n",
      "total_rech_data_8 : 73.69\n",
      "max_rech_data_6 : 74.90\n",
      "max_rech_data_7 : 74.48\n",
      "max_rech_data_8 : 73.69\n",
      "count_rech_2g_6 : 74.90\n",
      "count_rech_2g_7 : 74.48\n",
      "count_rech_2g_8 : 73.69\n",
      "count_rech_3g_6 : 74.90\n",
      "count_rech_3g_7 : 74.48\n",
      "count_rech_3g_8 : 73.69\n",
      "av_rech_amt_data_6 : 74.90\n",
      "av_rech_amt_data_7 : 74.48\n",
      "av_rech_amt_data_8 : 73.69\n",
      "vol_2g_mb_6 : 0.00\n",
      "vol_2g_mb_7 : 0.00\n",
      "vol_2g_mb_8 : 0.00\n",
      "vol_3g_mb_6 : 0.00\n",
      "vol_3g_mb_7 : 0.00\n",
      "vol_3g_mb_8 : 0.00\n",
      "arpu_3g_6 : 74.90\n",
      "arpu_3g_7 : 74.48\n",
      "arpu_3g_8 : 73.69\n",
      "arpu_2g_6 : 74.90\n",
      "arpu_2g_7 : 74.48\n",
      "arpu_2g_8 : 73.69\n",
      "night_pck_user_6 : 74.90\n",
      "night_pck_user_7 : 74.48\n",
      "night_pck_user_8 : 73.69\n",
      "monthly_2g_6 : 0.00\n",
      "monthly_2g_7 : 0.00\n",
      "monthly_2g_8 : 0.00\n",
      "sachet_2g_6 : 0.00\n",
      "sachet_2g_7 : 0.00\n",
      "sachet_2g_8 : 0.00\n",
      "monthly_3g_6 : 0.00\n",
      "monthly_3g_7 : 0.00\n",
      "monthly_3g_8 : 0.00\n",
      "sachet_3g_6 : 0.00\n",
      "sachet_3g_7 : 0.00\n",
      "sachet_3g_8 : 0.00\n",
      "fb_user_6 : 74.90\n",
      "fb_user_7 : 74.48\n",
      "fb_user_8 : 73.69\n",
      "aon : 0.00\n",
      "aug_vbc_3g : 0.00\n",
      "jul_vbc_3g : 0.00\n",
      "jun_vbc_3g : 0.00\n",
      "churn_probability : 0.00\n"
     ]
    }
   ],
   "source": [
    "colls = []\n",
    "for col in df.columns:\n",
    "    null_col = df[col].isnull().sum() / df.shape[0] * 100\n",
    "    if null_col>50:\n",
    "        colls+=[col]\n",
    "    print(\"{} : {:.2f}\".format(col,null_col))"
   ]
  },
  {
   "cell_type": "code",
   "execution_count": 10,
   "id": "371dbb18",
   "metadata": {
    "execution": {
     "iopub.execute_input": "2022-08-07T16:09:24.124368Z",
     "iopub.status.busy": "2022-08-07T16:09:24.123966Z",
     "iopub.status.idle": "2022-08-07T16:09:24.131165Z",
     "shell.execute_reply": "2022-08-07T16:09:24.130088Z"
    },
    "papermill": {
     "duration": 0.02543,
     "end_time": "2022-08-07T16:09:24.133540",
     "exception": false,
     "start_time": "2022-08-07T16:09:24.108110",
     "status": "completed"
    },
    "tags": []
   },
   "outputs": [
    {
     "data": {
      "text/plain": [
       "['date_of_last_rech_data_6',\n",
       " 'date_of_last_rech_data_7',\n",
       " 'date_of_last_rech_data_8',\n",
       " 'total_rech_data_6',\n",
       " 'total_rech_data_7',\n",
       " 'total_rech_data_8',\n",
       " 'max_rech_data_6',\n",
       " 'max_rech_data_7',\n",
       " 'max_rech_data_8',\n",
       " 'count_rech_2g_6',\n",
       " 'count_rech_2g_7',\n",
       " 'count_rech_2g_8',\n",
       " 'count_rech_3g_6',\n",
       " 'count_rech_3g_7',\n",
       " 'count_rech_3g_8',\n",
       " 'av_rech_amt_data_6',\n",
       " 'av_rech_amt_data_7',\n",
       " 'av_rech_amt_data_8',\n",
       " 'arpu_3g_6',\n",
       " 'arpu_3g_7',\n",
       " 'arpu_3g_8',\n",
       " 'arpu_2g_6',\n",
       " 'arpu_2g_7',\n",
       " 'arpu_2g_8',\n",
       " 'night_pck_user_6',\n",
       " 'night_pck_user_7',\n",
       " 'night_pck_user_8',\n",
       " 'fb_user_6',\n",
       " 'fb_user_7',\n",
       " 'fb_user_8']"
      ]
     },
     "execution_count": 10,
     "metadata": {},
     "output_type": "execute_result"
    }
   ],
   "source": [
    "colls"
   ]
  },
  {
   "cell_type": "code",
   "execution_count": 11,
   "id": "68c4896e",
   "metadata": {
    "execution": {
     "iopub.execute_input": "2022-08-07T16:09:24.166167Z",
     "iopub.status.busy": "2022-08-07T16:09:24.165348Z",
     "iopub.status.idle": "2022-08-07T16:09:24.198116Z",
     "shell.execute_reply": "2022-08-07T16:09:24.196895Z"
    },
    "papermill": {
     "duration": 0.051603,
     "end_time": "2022-08-07T16:09:24.200603",
     "exception": false,
     "start_time": "2022-08-07T16:09:24.149000",
     "status": "completed"
    },
    "tags": []
   },
   "outputs": [],
   "source": [
    "df = df.drop(colls,axis=1)"
   ]
  },
  {
   "cell_type": "code",
   "execution_count": 12,
   "id": "8adb16a9",
   "metadata": {
    "execution": {
     "iopub.execute_input": "2022-08-07T16:09:24.232592Z",
     "iopub.status.busy": "2022-08-07T16:09:24.231552Z",
     "iopub.status.idle": "2022-08-07T16:09:24.276104Z",
     "shell.execute_reply": "2022-08-07T16:09:24.274953Z"
    },
    "papermill": {
     "duration": 0.062709,
     "end_time": "2022-08-07T16:09:24.278295",
     "exception": false,
     "start_time": "2022-08-07T16:09:24.215586",
     "status": "completed"
    },
    "tags": []
   },
   "outputs": [
    {
     "data": {
      "text/plain": [
       "2.752715380843469"
      ]
     },
     "execution_count": 12,
     "metadata": {},
     "output_type": "execute_result"
    }
   ],
   "source": [
    "percent_null = df.isnull().sum().sum() / np.product(df.shape) * 100\n",
    "percent_null"
   ]
  },
  {
   "cell_type": "code",
   "execution_count": 13,
   "id": "c4caa76e",
   "metadata": {
    "execution": {
     "iopub.execute_input": "2022-08-07T16:09:24.310511Z",
     "iopub.status.busy": "2022-08-07T16:09:24.309351Z",
     "iopub.status.idle": "2022-08-07T16:09:24.404515Z",
     "shell.execute_reply": "2022-08-07T16:09:24.403494Z"
    },
    "papermill": {
     "duration": 0.113968,
     "end_time": "2022-08-07T16:09:24.407202",
     "exception": false,
     "start_time": "2022-08-07T16:09:24.293234",
     "status": "completed"
    },
    "tags": []
   },
   "outputs": [],
   "source": [
    "df = df.dropna()"
   ]
  },
  {
   "cell_type": "code",
   "execution_count": 14,
   "id": "78fb8c05",
   "metadata": {
    "execution": {
     "iopub.execute_input": "2022-08-07T16:09:24.438907Z",
     "iopub.status.busy": "2022-08-07T16:09:24.438483Z",
     "iopub.status.idle": "2022-08-07T16:09:24.477979Z",
     "shell.execute_reply": "2022-08-07T16:09:24.476833Z"
    },
    "papermill": {
     "duration": 0.058534,
     "end_time": "2022-08-07T16:09:24.480762",
     "exception": false,
     "start_time": "2022-08-07T16:09:24.422228",
     "status": "completed"
    },
    "tags": []
   },
   "outputs": [
    {
     "data": {
      "text/plain": [
       "0"
      ]
     },
     "execution_count": 14,
     "metadata": {},
     "output_type": "execute_result"
    }
   ],
   "source": [
    "df.isnull().sum().sum()"
   ]
  },
  {
   "cell_type": "code",
   "execution_count": 15,
   "id": "e316678f",
   "metadata": {
    "execution": {
     "iopub.execute_input": "2022-08-07T16:09:24.513960Z",
     "iopub.status.busy": "2022-08-07T16:09:24.512872Z",
     "iopub.status.idle": "2022-08-07T16:09:24.525017Z",
     "shell.execute_reply": "2022-08-07T16:09:24.523713Z"
    },
    "papermill": {
     "duration": 0.031694,
     "end_time": "2022-08-07T16:09:24.528236",
     "exception": false,
     "start_time": "2022-08-07T16:09:24.496542",
     "status": "completed"
    },
    "tags": []
   },
   "outputs": [
    {
     "name": "stdout",
     "output_type": "stream",
     "text": [
      "last_date_of_month_6\n",
      "last_date_of_month_7\n",
      "last_date_of_month_8\n",
      "date_of_last_rech_6\n",
      "date_of_last_rech_7\n",
      "date_of_last_rech_8\n"
     ]
    }
   ],
   "source": [
    "colls = []\n",
    "for col in df.columns:\n",
    "    if df[col].dtype == object:\n",
    "        colls+=[col]\n",
    "        print(col)"
   ]
  },
  {
   "cell_type": "code",
   "execution_count": 16,
   "id": "efa43774",
   "metadata": {
    "execution": {
     "iopub.execute_input": "2022-08-07T16:09:24.561271Z",
     "iopub.status.busy": "2022-08-07T16:09:24.560862Z",
     "iopub.status.idle": "2022-08-07T16:09:24.579502Z",
     "shell.execute_reply": "2022-08-07T16:09:24.578315Z"
    },
    "papermill": {
     "duration": 0.038011,
     "end_time": "2022-08-07T16:09:24.582023",
     "exception": false,
     "start_time": "2022-08-07T16:09:24.544012",
     "status": "completed"
    },
    "tags": []
   },
   "outputs": [
    {
     "data": {
      "text/html": [
       "<div>\n",
       "<style scoped>\n",
       "    .dataframe tbody tr th:only-of-type {\n",
       "        vertical-align: middle;\n",
       "    }\n",
       "\n",
       "    .dataframe tbody tr th {\n",
       "        vertical-align: top;\n",
       "    }\n",
       "\n",
       "    .dataframe thead th {\n",
       "        text-align: right;\n",
       "    }\n",
       "</style>\n",
       "<table border=\"1\" class=\"dataframe\">\n",
       "  <thead>\n",
       "    <tr style=\"text-align: right;\">\n",
       "      <th></th>\n",
       "      <th>last_date_of_month_6</th>\n",
       "      <th>last_date_of_month_7</th>\n",
       "      <th>last_date_of_month_8</th>\n",
       "      <th>date_of_last_rech_6</th>\n",
       "      <th>date_of_last_rech_7</th>\n",
       "      <th>date_of_last_rech_8</th>\n",
       "    </tr>\n",
       "  </thead>\n",
       "  <tbody>\n",
       "    <tr>\n",
       "      <th>0</th>\n",
       "      <td>6/30/2014</td>\n",
       "      <td>7/31/2014</td>\n",
       "      <td>8/31/2014</td>\n",
       "      <td>6/22/2014</td>\n",
       "      <td>7/10/2014</td>\n",
       "      <td>8/24/2014</td>\n",
       "    </tr>\n",
       "    <tr>\n",
       "      <th>1</th>\n",
       "      <td>6/30/2014</td>\n",
       "      <td>7/31/2014</td>\n",
       "      <td>8/31/2014</td>\n",
       "      <td>6/12/2014</td>\n",
       "      <td>7/10/2014</td>\n",
       "      <td>8/26/2014</td>\n",
       "    </tr>\n",
       "    <tr>\n",
       "      <th>2</th>\n",
       "      <td>6/30/2014</td>\n",
       "      <td>7/31/2014</td>\n",
       "      <td>8/31/2014</td>\n",
       "      <td>6/11/2014</td>\n",
       "      <td>7/22/2014</td>\n",
       "      <td>8/24/2014</td>\n",
       "    </tr>\n",
       "    <tr>\n",
       "      <th>3</th>\n",
       "      <td>6/30/2014</td>\n",
       "      <td>7/31/2014</td>\n",
       "      <td>8/31/2014</td>\n",
       "      <td>6/15/2014</td>\n",
       "      <td>7/21/2014</td>\n",
       "      <td>8/25/2014</td>\n",
       "    </tr>\n",
       "    <tr>\n",
       "      <th>4</th>\n",
       "      <td>6/30/2014</td>\n",
       "      <td>7/31/2014</td>\n",
       "      <td>8/31/2014</td>\n",
       "      <td>6/25/2014</td>\n",
       "      <td>7/26/2014</td>\n",
       "      <td>8/30/2014</td>\n",
       "    </tr>\n",
       "    <tr>\n",
       "      <th>...</th>\n",
       "      <td>...</td>\n",
       "      <td>...</td>\n",
       "      <td>...</td>\n",
       "      <td>...</td>\n",
       "      <td>...</td>\n",
       "      <td>...</td>\n",
       "    </tr>\n",
       "    <tr>\n",
       "      <th>69994</th>\n",
       "      <td>6/30/2014</td>\n",
       "      <td>7/31/2014</td>\n",
       "      <td>8/31/2014</td>\n",
       "      <td>6/18/2014</td>\n",
       "      <td>7/31/2014</td>\n",
       "      <td>8/31/2014</td>\n",
       "    </tr>\n",
       "    <tr>\n",
       "      <th>69995</th>\n",
       "      <td>6/30/2014</td>\n",
       "      <td>7/31/2014</td>\n",
       "      <td>8/31/2014</td>\n",
       "      <td>6/28/2014</td>\n",
       "      <td>7/31/2014</td>\n",
       "      <td>8/27/2014</td>\n",
       "    </tr>\n",
       "    <tr>\n",
       "      <th>69996</th>\n",
       "      <td>6/30/2014</td>\n",
       "      <td>7/31/2014</td>\n",
       "      <td>8/31/2014</td>\n",
       "      <td>6/25/2014</td>\n",
       "      <td>7/30/2014</td>\n",
       "      <td>8/29/2014</td>\n",
       "    </tr>\n",
       "    <tr>\n",
       "      <th>69997</th>\n",
       "      <td>6/30/2014</td>\n",
       "      <td>7/31/2014</td>\n",
       "      <td>8/31/2014</td>\n",
       "      <td>6/29/2014</td>\n",
       "      <td>7/19/2014</td>\n",
       "      <td>8/26/2014</td>\n",
       "    </tr>\n",
       "    <tr>\n",
       "      <th>69998</th>\n",
       "      <td>6/30/2014</td>\n",
       "      <td>7/31/2014</td>\n",
       "      <td>8/31/2014</td>\n",
       "      <td>6/19/2014</td>\n",
       "      <td>7/27/2014</td>\n",
       "      <td>8/25/2014</td>\n",
       "    </tr>\n",
       "  </tbody>\n",
       "</table>\n",
       "<p>61895 rows × 6 columns</p>\n",
       "</div>"
      ],
      "text/plain": [
       "      last_date_of_month_6 last_date_of_month_7 last_date_of_month_8  \\\n",
       "0                6/30/2014            7/31/2014            8/31/2014   \n",
       "1                6/30/2014            7/31/2014            8/31/2014   \n",
       "2                6/30/2014            7/31/2014            8/31/2014   \n",
       "3                6/30/2014            7/31/2014            8/31/2014   \n",
       "4                6/30/2014            7/31/2014            8/31/2014   \n",
       "...                    ...                  ...                  ...   \n",
       "69994            6/30/2014            7/31/2014            8/31/2014   \n",
       "69995            6/30/2014            7/31/2014            8/31/2014   \n",
       "69996            6/30/2014            7/31/2014            8/31/2014   \n",
       "69997            6/30/2014            7/31/2014            8/31/2014   \n",
       "69998            6/30/2014            7/31/2014            8/31/2014   \n",
       "\n",
       "      date_of_last_rech_6 date_of_last_rech_7 date_of_last_rech_8  \n",
       "0               6/22/2014           7/10/2014           8/24/2014  \n",
       "1               6/12/2014           7/10/2014           8/26/2014  \n",
       "2               6/11/2014           7/22/2014           8/24/2014  \n",
       "3               6/15/2014           7/21/2014           8/25/2014  \n",
       "4               6/25/2014           7/26/2014           8/30/2014  \n",
       "...                   ...                 ...                 ...  \n",
       "69994           6/18/2014           7/31/2014           8/31/2014  \n",
       "69995           6/28/2014           7/31/2014           8/27/2014  \n",
       "69996           6/25/2014           7/30/2014           8/29/2014  \n",
       "69997           6/29/2014           7/19/2014           8/26/2014  \n",
       "69998           6/19/2014           7/27/2014           8/25/2014  \n",
       "\n",
       "[61895 rows x 6 columns]"
      ]
     },
     "execution_count": 16,
     "metadata": {},
     "output_type": "execute_result"
    }
   ],
   "source": [
    "df[colls]"
   ]
  },
  {
   "cell_type": "code",
   "execution_count": 17,
   "id": "dd86d09e",
   "metadata": {
    "execution": {
     "iopub.execute_input": "2022-08-07T16:09:24.615495Z",
     "iopub.status.busy": "2022-08-07T16:09:24.614771Z",
     "iopub.status.idle": "2022-08-07T16:09:24.641467Z",
     "shell.execute_reply": "2022-08-07T16:09:24.640378Z"
    },
    "papermill": {
     "duration": 0.04632,
     "end_time": "2022-08-07T16:09:24.643981",
     "exception": false,
     "start_time": "2022-08-07T16:09:24.597661",
     "status": "completed"
    },
    "tags": []
   },
   "outputs": [],
   "source": [
    "df = df.drop(colls,axis=1)"
   ]
  },
  {
   "cell_type": "code",
   "execution_count": 18,
   "id": "4c636d56",
   "metadata": {
    "execution": {
     "iopub.execute_input": "2022-08-07T16:09:24.676994Z",
     "iopub.status.busy": "2022-08-07T16:09:24.676326Z",
     "iopub.status.idle": "2022-08-07T16:09:24.691930Z",
     "shell.execute_reply": "2022-08-07T16:09:24.690901Z"
    },
    "papermill": {
     "duration": 0.03527,
     "end_time": "2022-08-07T16:09:24.694719",
     "exception": false,
     "start_time": "2022-08-07T16:09:24.659449",
     "status": "completed"
    },
    "tags": []
   },
   "outputs": [
    {
     "name": "stdout",
     "output_type": "stream",
     "text": [
      "<class 'pandas.core.frame.DataFrame'>\n",
      "Int64Index: 61895 entries, 0 to 69998\n",
      "Columns: 136 entries, id to churn_probability\n",
      "dtypes: float64(108), int64(28)\n",
      "memory usage: 64.7 MB\n"
     ]
    }
   ],
   "source": [
    "df.info()"
   ]
  },
  {
   "cell_type": "code",
   "execution_count": 19,
   "id": "ed8788fc",
   "metadata": {
    "execution": {
     "iopub.execute_input": "2022-08-07T16:09:24.728668Z",
     "iopub.status.busy": "2022-08-07T16:09:24.727915Z",
     "iopub.status.idle": "2022-08-07T16:09:25.015936Z",
     "shell.execute_reply": "2022-08-07T16:09:25.014791Z"
    },
    "papermill": {
     "duration": 0.308514,
     "end_time": "2022-08-07T16:09:25.018861",
     "exception": false,
     "start_time": "2022-08-07T16:09:24.710347",
     "status": "completed"
    },
    "tags": []
   },
   "outputs": [
    {
     "name": "stdout",
     "output_type": "stream",
     "text": [
      "id : 61895\n",
      "circle_id : 1\n",
      "loc_og_t2o_mou : 1\n",
      "std_og_t2o_mou : 1\n",
      "loc_ic_t2o_mou : 1\n",
      "arpu_6 : 56883\n",
      "arpu_7 : 57024\n",
      "arpu_8 : 56641\n",
      "onnet_mou_6 : 19241\n",
      "onnet_mou_7 : 19502\n",
      "onnet_mou_8 : 19094\n",
      "offnet_mou_6 : 25312\n",
      "offnet_mou_7 : 25458\n",
      "offnet_mou_8 : 25294\n",
      "roam_ic_mou_6 : 5068\n",
      "roam_ic_mou_7 : 4062\n",
      "roam_ic_mou_8 : 4121\n",
      "roam_og_mou_6 : 6168\n",
      "roam_og_mou_7 : 4992\n",
      "roam_og_mou_8 : 5017\n",
      "loc_og_t2t_mou_6 : 11190\n",
      "loc_og_t2t_mou_7 : 11190\n",
      "loc_og_t2t_mou_8 : 11137\n",
      "loc_og_t2m_mou_6 : 17378\n",
      "loc_og_t2m_mou_7 : 17362\n",
      "loc_og_t2m_mou_8 : 17401\n",
      "loc_og_t2f_mou_6 : 3279\n",
      "loc_og_t2f_mou_7 : 3290\n",
      "loc_og_t2f_mou_8 : 3247\n",
      "loc_og_t2c_mou_6 : 1894\n",
      "loc_og_t2c_mou_7 : 2049\n",
      "loc_og_t2c_mou_8 : 2152\n",
      "loc_og_mou_6 : 21684\n",
      "loc_og_mou_7 : 21655\n",
      "loc_og_mou_8 : 21622\n",
      "std_og_t2t_mou_6 : 13733\n",
      "std_og_t2t_mou_7 : 14102\n",
      "std_og_t2t_mou_8 : 13812\n",
      "std_og_t2m_mou_6 : 15227\n",
      "std_og_t2m_mou_7 : 15573\n",
      "std_og_t2m_mou_8 : 15237\n",
      "std_og_t2f_mou_6 : 1985\n",
      "std_og_t2f_mou_7 : 1910\n",
      "std_og_t2f_mou_8 : 1873\n",
      "std_og_t2c_mou_6 : 1\n",
      "std_og_t2c_mou_7 : 1\n",
      "std_og_t2c_mou_8 : 1\n",
      "std_og_mou_6 : 20595\n",
      "std_og_mou_7 : 21091\n",
      "std_og_mou_8 : 20678\n",
      "isd_og_mou_6 : 984\n",
      "isd_og_mou_7 : 998\n",
      "isd_og_mou_8 : 931\n",
      "spl_og_mou_6 : 3383\n",
      "spl_og_mou_7 : 3741\n",
      "spl_og_mou_8 : 3750\n",
      "og_others_6 : 881\n",
      "og_others_7 : 142\n",
      "og_others_8 : 174\n",
      "total_og_mou_6 : 31742\n",
      "total_og_mou_7 : 32184\n",
      "total_og_mou_8 : 31865\n",
      "loc_ic_t2t_mou_6 : 11363\n",
      "loc_ic_t2t_mou_7 : 11428\n",
      "loc_ic_t2t_mou_8 : 11281\n",
      "loc_ic_t2m_mou_6 : 18621\n",
      "loc_ic_t2m_mou_7 : 18672\n",
      "loc_ic_t2m_mou_8 : 18810\n",
      "loc_ic_t2f_mou_6 : 6058\n",
      "loc_ic_t2f_mou_7 : 6168\n",
      "loc_ic_t2f_mou_8 : 6007\n",
      "loc_ic_mou_6 : 23843\n",
      "loc_ic_mou_7 : 23901\n",
      "loc_ic_mou_8 : 23835\n",
      "std_ic_t2t_mou_6 : 5146\n",
      "std_ic_t2t_mou_7 : 5323\n",
      "std_ic_t2t_mou_8 : 5213\n",
      "std_ic_t2m_mou_6 : 7671\n",
      "std_ic_t2m_mou_7 : 7854\n",
      "std_ic_t2m_mou_8 : 7722\n",
      "std_ic_t2f_mou_6 : 2553\n",
      "std_ic_t2f_mou_7 : 2635\n",
      "std_ic_t2f_mou_8 : 2514\n",
      "std_ic_t2o_mou_6 : 1\n",
      "std_ic_t2o_mou_7 : 1\n",
      "std_ic_t2o_mou_8 : 1\n",
      "std_ic_mou_6 : 9540\n",
      "std_ic_mou_7 : 9847\n",
      "std_ic_mou_8 : 9691\n",
      "total_ic_mou_6 : 26691\n",
      "total_ic_mou_7 : 26871\n",
      "total_ic_mou_8 : 26845\n",
      "spl_ic_mou_6 : 78\n",
      "spl_ic_mou_7 : 103\n",
      "spl_ic_mou_8 : 93\n",
      "isd_ic_mou_6 : 4161\n",
      "isd_ic_mou_7 : 4445\n",
      "isd_ic_mou_8 : 4495\n",
      "ic_others_6 : 1483\n",
      "ic_others_7 : 1624\n",
      "ic_others_8 : 1528\n",
      "total_rech_num_6 : 92\n",
      "total_rech_num_7 : 94\n",
      "total_rech_num_8 : 91\n",
      "total_rech_amt_6 : 2067\n",
      "total_rech_amt_7 : 2118\n",
      "total_rech_amt_8 : 2118\n",
      "max_rech_amt_6 : 165\n",
      "max_rech_amt_7 : 165\n",
      "max_rech_amt_8 : 190\n",
      "last_day_rch_amt_6 : 154\n",
      "last_day_rch_amt_7 : 152\n",
      "last_day_rch_amt_8 : 178\n",
      "vol_2g_mb_6 : 10757\n",
      "vol_2g_mb_7 : 10884\n",
      "vol_2g_mb_8 : 10912\n",
      "vol_3g_mb_6 : 8804\n",
      "vol_3g_mb_7 : 9473\n",
      "vol_3g_mb_8 : 9960\n",
      "monthly_2g_6 : 5\n",
      "monthly_2g_7 : 6\n",
      "monthly_2g_8 : 6\n",
      "sachet_2g_6 : 30\n",
      "sachet_2g_7 : 33\n",
      "sachet_2g_8 : 32\n",
      "monthly_3g_6 : 10\n",
      "monthly_3g_7 : 13\n",
      "monthly_3g_8 : 12\n",
      "sachet_3g_6 : 23\n",
      "sachet_3g_7 : 26\n",
      "sachet_3g_8 : 28\n",
      "aon : 3447\n",
      "aug_vbc_3g : 10005\n",
      "jul_vbc_3g : 9523\n",
      "jun_vbc_3g : 8809\n",
      "churn_probability : 2\n"
     ]
    }
   ],
   "source": [
    "colls = []\n",
    "for col in df.columns:\n",
    "    if df[col].nunique() ==1:\n",
    "        colls+=[col]\n",
    "    print('{} : {}'.format(col,df[col].nunique()))"
   ]
  },
  {
   "cell_type": "code",
   "execution_count": 20,
   "id": "809239cf",
   "metadata": {
    "execution": {
     "iopub.execute_input": "2022-08-07T16:09:25.053120Z",
     "iopub.status.busy": "2022-08-07T16:09:25.052412Z",
     "iopub.status.idle": "2022-08-07T16:09:25.079165Z",
     "shell.execute_reply": "2022-08-07T16:09:25.077818Z"
    },
    "papermill": {
     "duration": 0.046285,
     "end_time": "2022-08-07T16:09:25.081525",
     "exception": false,
     "start_time": "2022-08-07T16:09:25.035240",
     "status": "completed"
    },
    "tags": []
   },
   "outputs": [
    {
     "data": {
      "text/html": [
       "<div>\n",
       "<style scoped>\n",
       "    .dataframe tbody tr th:only-of-type {\n",
       "        vertical-align: middle;\n",
       "    }\n",
       "\n",
       "    .dataframe tbody tr th {\n",
       "        vertical-align: top;\n",
       "    }\n",
       "\n",
       "    .dataframe thead th {\n",
       "        text-align: right;\n",
       "    }\n",
       "</style>\n",
       "<table border=\"1\" class=\"dataframe\">\n",
       "  <thead>\n",
       "    <tr style=\"text-align: right;\">\n",
       "      <th></th>\n",
       "      <th>circle_id</th>\n",
       "      <th>loc_og_t2o_mou</th>\n",
       "      <th>std_og_t2o_mou</th>\n",
       "      <th>loc_ic_t2o_mou</th>\n",
       "      <th>std_og_t2c_mou_6</th>\n",
       "      <th>std_og_t2c_mou_7</th>\n",
       "      <th>std_og_t2c_mou_8</th>\n",
       "      <th>std_ic_t2o_mou_6</th>\n",
       "      <th>std_ic_t2o_mou_7</th>\n",
       "      <th>std_ic_t2o_mou_8</th>\n",
       "    </tr>\n",
       "  </thead>\n",
       "  <tbody>\n",
       "    <tr>\n",
       "      <th>0</th>\n",
       "      <td>109</td>\n",
       "      <td>0.0</td>\n",
       "      <td>0.0</td>\n",
       "      <td>0.0</td>\n",
       "      <td>0.0</td>\n",
       "      <td>0.0</td>\n",
       "      <td>0.0</td>\n",
       "      <td>0.0</td>\n",
       "      <td>0.0</td>\n",
       "      <td>0.0</td>\n",
       "    </tr>\n",
       "    <tr>\n",
       "      <th>1</th>\n",
       "      <td>109</td>\n",
       "      <td>0.0</td>\n",
       "      <td>0.0</td>\n",
       "      <td>0.0</td>\n",
       "      <td>0.0</td>\n",
       "      <td>0.0</td>\n",
       "      <td>0.0</td>\n",
       "      <td>0.0</td>\n",
       "      <td>0.0</td>\n",
       "      <td>0.0</td>\n",
       "    </tr>\n",
       "    <tr>\n",
       "      <th>2</th>\n",
       "      <td>109</td>\n",
       "      <td>0.0</td>\n",
       "      <td>0.0</td>\n",
       "      <td>0.0</td>\n",
       "      <td>0.0</td>\n",
       "      <td>0.0</td>\n",
       "      <td>0.0</td>\n",
       "      <td>0.0</td>\n",
       "      <td>0.0</td>\n",
       "      <td>0.0</td>\n",
       "    </tr>\n",
       "    <tr>\n",
       "      <th>3</th>\n",
       "      <td>109</td>\n",
       "      <td>0.0</td>\n",
       "      <td>0.0</td>\n",
       "      <td>0.0</td>\n",
       "      <td>0.0</td>\n",
       "      <td>0.0</td>\n",
       "      <td>0.0</td>\n",
       "      <td>0.0</td>\n",
       "      <td>0.0</td>\n",
       "      <td>0.0</td>\n",
       "    </tr>\n",
       "    <tr>\n",
       "      <th>4</th>\n",
       "      <td>109</td>\n",
       "      <td>0.0</td>\n",
       "      <td>0.0</td>\n",
       "      <td>0.0</td>\n",
       "      <td>0.0</td>\n",
       "      <td>0.0</td>\n",
       "      <td>0.0</td>\n",
       "      <td>0.0</td>\n",
       "      <td>0.0</td>\n",
       "      <td>0.0</td>\n",
       "    </tr>\n",
       "    <tr>\n",
       "      <th>...</th>\n",
       "      <td>...</td>\n",
       "      <td>...</td>\n",
       "      <td>...</td>\n",
       "      <td>...</td>\n",
       "      <td>...</td>\n",
       "      <td>...</td>\n",
       "      <td>...</td>\n",
       "      <td>...</td>\n",
       "      <td>...</td>\n",
       "      <td>...</td>\n",
       "    </tr>\n",
       "    <tr>\n",
       "      <th>69994</th>\n",
       "      <td>109</td>\n",
       "      <td>0.0</td>\n",
       "      <td>0.0</td>\n",
       "      <td>0.0</td>\n",
       "      <td>0.0</td>\n",
       "      <td>0.0</td>\n",
       "      <td>0.0</td>\n",
       "      <td>0.0</td>\n",
       "      <td>0.0</td>\n",
       "      <td>0.0</td>\n",
       "    </tr>\n",
       "    <tr>\n",
       "      <th>69995</th>\n",
       "      <td>109</td>\n",
       "      <td>0.0</td>\n",
       "      <td>0.0</td>\n",
       "      <td>0.0</td>\n",
       "      <td>0.0</td>\n",
       "      <td>0.0</td>\n",
       "      <td>0.0</td>\n",
       "      <td>0.0</td>\n",
       "      <td>0.0</td>\n",
       "      <td>0.0</td>\n",
       "    </tr>\n",
       "    <tr>\n",
       "      <th>69996</th>\n",
       "      <td>109</td>\n",
       "      <td>0.0</td>\n",
       "      <td>0.0</td>\n",
       "      <td>0.0</td>\n",
       "      <td>0.0</td>\n",
       "      <td>0.0</td>\n",
       "      <td>0.0</td>\n",
       "      <td>0.0</td>\n",
       "      <td>0.0</td>\n",
       "      <td>0.0</td>\n",
       "    </tr>\n",
       "    <tr>\n",
       "      <th>69997</th>\n",
       "      <td>109</td>\n",
       "      <td>0.0</td>\n",
       "      <td>0.0</td>\n",
       "      <td>0.0</td>\n",
       "      <td>0.0</td>\n",
       "      <td>0.0</td>\n",
       "      <td>0.0</td>\n",
       "      <td>0.0</td>\n",
       "      <td>0.0</td>\n",
       "      <td>0.0</td>\n",
       "    </tr>\n",
       "    <tr>\n",
       "      <th>69998</th>\n",
       "      <td>109</td>\n",
       "      <td>0.0</td>\n",
       "      <td>0.0</td>\n",
       "      <td>0.0</td>\n",
       "      <td>0.0</td>\n",
       "      <td>0.0</td>\n",
       "      <td>0.0</td>\n",
       "      <td>0.0</td>\n",
       "      <td>0.0</td>\n",
       "      <td>0.0</td>\n",
       "    </tr>\n",
       "  </tbody>\n",
       "</table>\n",
       "<p>61895 rows × 10 columns</p>\n",
       "</div>"
      ],
      "text/plain": [
       "       circle_id  loc_og_t2o_mou  std_og_t2o_mou  loc_ic_t2o_mou  \\\n",
       "0            109             0.0             0.0             0.0   \n",
       "1            109             0.0             0.0             0.0   \n",
       "2            109             0.0             0.0             0.0   \n",
       "3            109             0.0             0.0             0.0   \n",
       "4            109             0.0             0.0             0.0   \n",
       "...          ...             ...             ...             ...   \n",
       "69994        109             0.0             0.0             0.0   \n",
       "69995        109             0.0             0.0             0.0   \n",
       "69996        109             0.0             0.0             0.0   \n",
       "69997        109             0.0             0.0             0.0   \n",
       "69998        109             0.0             0.0             0.0   \n",
       "\n",
       "       std_og_t2c_mou_6  std_og_t2c_mou_7  std_og_t2c_mou_8  std_ic_t2o_mou_6  \\\n",
       "0                   0.0               0.0               0.0               0.0   \n",
       "1                   0.0               0.0               0.0               0.0   \n",
       "2                   0.0               0.0               0.0               0.0   \n",
       "3                   0.0               0.0               0.0               0.0   \n",
       "4                   0.0               0.0               0.0               0.0   \n",
       "...                 ...               ...               ...               ...   \n",
       "69994               0.0               0.0               0.0               0.0   \n",
       "69995               0.0               0.0               0.0               0.0   \n",
       "69996               0.0               0.0               0.0               0.0   \n",
       "69997               0.0               0.0               0.0               0.0   \n",
       "69998               0.0               0.0               0.0               0.0   \n",
       "\n",
       "       std_ic_t2o_mou_7  std_ic_t2o_mou_8  \n",
       "0                   0.0               0.0  \n",
       "1                   0.0               0.0  \n",
       "2                   0.0               0.0  \n",
       "3                   0.0               0.0  \n",
       "4                   0.0               0.0  \n",
       "...                 ...               ...  \n",
       "69994               0.0               0.0  \n",
       "69995               0.0               0.0  \n",
       "69996               0.0               0.0  \n",
       "69997               0.0               0.0  \n",
       "69998               0.0               0.0  \n",
       "\n",
       "[61895 rows x 10 columns]"
      ]
     },
     "execution_count": 20,
     "metadata": {},
     "output_type": "execute_result"
    }
   ],
   "source": [
    "df[colls]"
   ]
  },
  {
   "cell_type": "code",
   "execution_count": 21,
   "id": "5f6b5854",
   "metadata": {
    "execution": {
     "iopub.execute_input": "2022-08-07T16:09:25.115868Z",
     "iopub.status.busy": "2022-08-07T16:09:25.115469Z",
     "iopub.status.idle": "2022-08-07T16:09:25.141517Z",
     "shell.execute_reply": "2022-08-07T16:09:25.140459Z"
    },
    "papermill": {
     "duration": 0.046043,
     "end_time": "2022-08-07T16:09:25.143881",
     "exception": false,
     "start_time": "2022-08-07T16:09:25.097838",
     "status": "completed"
    },
    "tags": []
   },
   "outputs": [],
   "source": [
    "df = df.drop(colls,axis=1)"
   ]
  },
  {
   "cell_type": "code",
   "execution_count": 22,
   "id": "e1dd2358",
   "metadata": {
    "execution": {
     "iopub.execute_input": "2022-08-07T16:09:25.178543Z",
     "iopub.status.busy": "2022-08-07T16:09:25.178101Z",
     "iopub.status.idle": "2022-08-07T16:09:25.491025Z",
     "shell.execute_reply": "2022-08-07T16:09:25.489824Z"
    },
    "papermill": {
     "duration": 0.333009,
     "end_time": "2022-08-07T16:09:25.493706",
     "exception": false,
     "start_time": "2022-08-07T16:09:25.160697",
     "status": "completed"
    },
    "tags": []
   },
   "outputs": [
    {
     "data": {
      "text/plain": [
       "0"
      ]
     },
     "execution_count": 22,
     "metadata": {},
     "output_type": "execute_result"
    }
   ],
   "source": [
    "df.duplicated().sum()"
   ]
  },
  {
   "cell_type": "code",
   "execution_count": 23,
   "id": "a7423119",
   "metadata": {
    "execution": {
     "iopub.execute_input": "2022-08-07T16:09:25.529512Z",
     "iopub.status.busy": "2022-08-07T16:09:25.528453Z",
     "iopub.status.idle": "2022-08-07T16:09:25.675744Z",
     "shell.execute_reply": "2022-08-07T16:09:25.674412Z"
    },
    "papermill": {
     "duration": 0.167803,
     "end_time": "2022-08-07T16:09:25.678310",
     "exception": false,
     "start_time": "2022-08-07T16:09:25.510507",
     "status": "completed"
    },
    "tags": []
   },
   "outputs": [
    {
     "name": "stdout",
     "output_type": "stream",
     "text": [
      "monthly_2g_6 : 5\n",
      "monthly_2g_7 : 6\n",
      "monthly_2g_8 : 6\n",
      "monthly_3g_6 : 10\n",
      "monthly_3g_7 : 13\n",
      "monthly_3g_8 : 12\n",
      "churn_probability : 2\n"
     ]
    }
   ],
   "source": [
    "colls = []\n",
    "for col in df.columns:\n",
    "    if df[col].nunique() <20:\n",
    "        colls+=[col]\n",
    "        print('{} : {}'.format(col,df[col].nunique()))"
   ]
  },
  {
   "cell_type": "code",
   "execution_count": 24,
   "id": "d9a74d76",
   "metadata": {
    "execution": {
     "iopub.execute_input": "2022-08-07T16:09:25.712963Z",
     "iopub.status.busy": "2022-08-07T16:09:25.711910Z",
     "iopub.status.idle": "2022-08-07T16:09:25.718421Z",
     "shell.execute_reply": "2022-08-07T16:09:25.717485Z"
    },
    "papermill": {
     "duration": 0.025849,
     "end_time": "2022-08-07T16:09:25.720535",
     "exception": false,
     "start_time": "2022-08-07T16:09:25.694686",
     "status": "completed"
    },
    "tags": []
   },
   "outputs": [],
   "source": [
    "def category_counts(col):\n",
    "    plt.figure(figsize=(12,8));\n",
    "    sns.countplot(x=df[col],palette='RdYlGn');\n",
    "    plt.xlabel(col);\n",
    "    plt.ylabel('Counts');\n",
    "    plt.title(f\"{col} Value Counts\");\n",
    "    plt.show()"
   ]
  },
  {
   "cell_type": "code",
   "execution_count": 25,
   "id": "d078c121",
   "metadata": {
    "execution": {
     "iopub.execute_input": "2022-08-07T16:09:25.755297Z",
     "iopub.status.busy": "2022-08-07T16:09:25.754092Z",
     "iopub.status.idle": "2022-08-07T16:09:27.073706Z",
     "shell.execute_reply": "2022-08-07T16:09:27.072456Z"
    },
    "papermill": {
     "duration": 1.339637,
     "end_time": "2022-08-07T16:09:27.076388",
     "exception": false,
     "start_time": "2022-08-07T16:09:25.736751",
     "status": "completed"
    },
    "tags": []
   },
   "outputs": [
    {
     "data": {
      "image/png": "[encoded data removed]",
      "text/plain": [
       "<Figure size 864x576 with 1 Axes>"
      ]
     },
     "metadata": {
      "needs_background": "light"
     },
     "output_type": "display_data"
    },
    {
     "data": {
      "image/png": "[encoded data removed]",
      "text/plain": [
       "<Figure size 864x576 with 1 Axes>"
      ]
     },
     "metadata": {
      "needs_background": "light"
     },
     "output_type": "display_data"
    },
    {
     "data": {
      "image/png": "[encoded data removed]",
      "text/plain": [
       "<Figure size 864x576 with 1 Axes>"
      ]
     },
     "metadata": {
      "needs_background": "light"
     },
     "output_type": "display_data"
    },
    {
     "data": {
      "image/png": "[encoded data removed]",
      "text/plain": [
       "<Figure size 864x576 with 1 Axes>"
      ]
     },
     "metadata": {
      "needs_background": "light"
     },
     "output_type": "display_data"
    },
    {
     "data": {
      "image/png": "[encoded data removed]",
      "text/plain": [
       "<Figure size 864x576 with 1 Axes>"
      ]
     },
     "metadata": {
      "needs_background": "light"
     },
     "output_type": "display_data"
    },
    {
     "data": {
      "image/png": "[encoded data removed]",
      "text/plain": [
       "<Figure size 864x576 with 1 Axes>"
      ]
     },
     "metadata": {
      "needs_background": "light"
     },
     "output_type": "display_data"
    },
    {
     "data": {
      "image/png": "[encoded data removed]",
      "text/plain": [
       "<Figure size 864x576 with 1 Axes>"
      ]
     },
     "metadata": {
      "needs_background": "light"
     },
     "output_type": "display_data"
    }
   ],
   "source": [
    "for col in colls:\n",
    "    category_counts(col)"
   ]
  },
  {
   "cell_type": "code",
   "execution_count": 26,
   "id": "ca43b8ce",
   "metadata": {
    "execution": {
     "iopub.execute_input": "2022-08-07T16:09:27.114991Z",
     "iopub.status.busy": "2022-08-07T16:09:27.114228Z",
     "iopub.status.idle": "2022-08-07T16:09:27.140914Z",
     "shell.execute_reply": "2022-08-07T16:09:27.139761Z"
    },
    "papermill": {
     "duration": 0.048697,
     "end_time": "2022-08-07T16:09:27.143479",
     "exception": false,
     "start_time": "2022-08-07T16:09:27.094782",
     "status": "completed"
    },
    "tags": []
   },
   "outputs": [
    {
     "data": {
      "text/html": [
       "<div>\n",
       "<style scoped>\n",
       "    .dataframe tbody tr th:only-of-type {\n",
       "        vertical-align: middle;\n",
       "    }\n",
       "\n",
       "    .dataframe tbody tr th {\n",
       "        vertical-align: top;\n",
       "    }\n",
       "\n",
       "    .dataframe thead th {\n",
       "        text-align: right;\n",
       "    }\n",
       "</style>\n",
       "<table border=\"1\" class=\"dataframe\">\n",
       "  <thead>\n",
       "    <tr style=\"text-align: right;\">\n",
       "      <th></th>\n",
       "      <th>id</th>\n",
       "      <th>arpu_6</th>\n",
       "      <th>arpu_7</th>\n",
       "      <th>arpu_8</th>\n",
       "      <th>onnet_mou_6</th>\n",
       "      <th>onnet_mou_7</th>\n",
       "      <th>onnet_mou_8</th>\n",
       "      <th>offnet_mou_6</th>\n",
       "      <th>offnet_mou_7</th>\n",
       "      <th>offnet_mou_8</th>\n",
       "      <th>...</th>\n",
       "      <th>monthly_3g_7</th>\n",
       "      <th>monthly_3g_8</th>\n",
       "      <th>sachet_3g_6</th>\n",
       "      <th>sachet_3g_7</th>\n",
       "      <th>sachet_3g_8</th>\n",
       "      <th>aon</th>\n",
       "      <th>aug_vbc_3g</th>\n",
       "      <th>jul_vbc_3g</th>\n",
       "      <th>jun_vbc_3g</th>\n",
       "      <th>churn_probability</th>\n",
       "    </tr>\n",
       "  </thead>\n",
       "  <tbody>\n",
       "    <tr>\n",
       "      <th>0</th>\n",
       "      <td>0</td>\n",
       "      <td>31.277</td>\n",
       "      <td>87.009</td>\n",
       "      <td>7.527</td>\n",
       "      <td>48.58</td>\n",
       "      <td>124.38</td>\n",
       "      <td>1.29</td>\n",
       "      <td>32.24</td>\n",
       "      <td>96.68</td>\n",
       "      <td>2.33</td>\n",
       "      <td>...</td>\n",
       "      <td>0</td>\n",
       "      <td>0</td>\n",
       "      <td>0</td>\n",
       "      <td>0</td>\n",
       "      <td>0</td>\n",
       "      <td>1958</td>\n",
       "      <td>0.0</td>\n",
       "      <td>0.0</td>\n",
       "      <td>0.0</td>\n",
       "      <td>0</td>\n",
       "    </tr>\n",
       "    <tr>\n",
       "      <th>1</th>\n",
       "      <td>1</td>\n",
       "      <td>0.000</td>\n",
       "      <td>122.787</td>\n",
       "      <td>42.953</td>\n",
       "      <td>0.00</td>\n",
       "      <td>0.00</td>\n",
       "      <td>0.00</td>\n",
       "      <td>0.00</td>\n",
       "      <td>25.99</td>\n",
       "      <td>30.89</td>\n",
       "      <td>...</td>\n",
       "      <td>1</td>\n",
       "      <td>0</td>\n",
       "      <td>0</td>\n",
       "      <td>0</td>\n",
       "      <td>0</td>\n",
       "      <td>710</td>\n",
       "      <td>0.0</td>\n",
       "      <td>0.0</td>\n",
       "      <td>0.0</td>\n",
       "      <td>0</td>\n",
       "    </tr>\n",
       "    <tr>\n",
       "      <th>2</th>\n",
       "      <td>2</td>\n",
       "      <td>60.806</td>\n",
       "      <td>103.176</td>\n",
       "      <td>0.000</td>\n",
       "      <td>0.53</td>\n",
       "      <td>15.93</td>\n",
       "      <td>0.00</td>\n",
       "      <td>53.99</td>\n",
       "      <td>82.05</td>\n",
       "      <td>0.00</td>\n",
       "      <td>...</td>\n",
       "      <td>0</td>\n",
       "      <td>0</td>\n",
       "      <td>0</td>\n",
       "      <td>0</td>\n",
       "      <td>0</td>\n",
       "      <td>882</td>\n",
       "      <td>0.0</td>\n",
       "      <td>0.0</td>\n",
       "      <td>0.0</td>\n",
       "      <td>0</td>\n",
       "    </tr>\n",
       "    <tr>\n",
       "      <th>3</th>\n",
       "      <td>3</td>\n",
       "      <td>156.362</td>\n",
       "      <td>205.260</td>\n",
       "      <td>111.095</td>\n",
       "      <td>7.26</td>\n",
       "      <td>16.01</td>\n",
       "      <td>0.00</td>\n",
       "      <td>68.76</td>\n",
       "      <td>78.48</td>\n",
       "      <td>50.23</td>\n",
       "      <td>...</td>\n",
       "      <td>0</td>\n",
       "      <td>0</td>\n",
       "      <td>0</td>\n",
       "      <td>0</td>\n",
       "      <td>0</td>\n",
       "      <td>982</td>\n",
       "      <td>0.0</td>\n",
       "      <td>0.0</td>\n",
       "      <td>0.0</td>\n",
       "      <td>0</td>\n",
       "    </tr>\n",
       "    <tr>\n",
       "      <th>4</th>\n",
       "      <td>4</td>\n",
       "      <td>240.708</td>\n",
       "      <td>128.191</td>\n",
       "      <td>101.565</td>\n",
       "      <td>21.28</td>\n",
       "      <td>4.83</td>\n",
       "      <td>6.13</td>\n",
       "      <td>56.99</td>\n",
       "      <td>38.11</td>\n",
       "      <td>9.63</td>\n",
       "      <td>...</td>\n",
       "      <td>0</td>\n",
       "      <td>0</td>\n",
       "      <td>0</td>\n",
       "      <td>1</td>\n",
       "      <td>0</td>\n",
       "      <td>647</td>\n",
       "      <td>0.0</td>\n",
       "      <td>0.0</td>\n",
       "      <td>0.0</td>\n",
       "      <td>0</td>\n",
       "    </tr>\n",
       "  </tbody>\n",
       "</table>\n",
       "<p>5 rows × 126 columns</p>\n",
       "</div>"
      ],
      "text/plain": [
       "   id   arpu_6   arpu_7   arpu_8  onnet_mou_6  onnet_mou_7  onnet_mou_8  \\\n",
       "0   0   31.277   87.009    7.527        48.58       124.38         1.29   \n",
       "1   1    0.000  122.787   42.953         0.00         0.00         0.00   \n",
       "2   2   60.806  103.176    0.000         0.53        15.93         0.00   \n",
       "3   3  156.362  205.260  111.095         7.26        16.01         0.00   \n",
       "4   4  240.708  128.191  101.565        21.28         4.83         6.13   \n",
       "\n",
       "   offnet_mou_6  offnet_mou_7  offnet_mou_8  ...  monthly_3g_7  monthly_3g_8  \\\n",
       "0         32.24         96.68          2.33  ...             0             0   \n",
       "1          0.00         25.99         30.89  ...             1             0   \n",
       "2         53.99         82.05          0.00  ...             0             0   \n",
       "3         68.76         78.48         50.23  ...             0             0   \n",
       "4         56.99         38.11          9.63  ...             0             0   \n",
       "\n",
       "   sachet_3g_6  sachet_3g_7  sachet_3g_8   aon  aug_vbc_3g  jul_vbc_3g  \\\n",
       "0            0            0            0  1958         0.0         0.0   \n",
       "1            0            0            0   710         0.0         0.0   \n",
       "2            0            0            0   882         0.0         0.0   \n",
       "3            0            0            0   982         0.0         0.0   \n",
       "4            0            1            0   647         0.0         0.0   \n",
       "\n",
       "   jun_vbc_3g  churn_probability  \n",
       "0         0.0                  0  \n",
       "1         0.0                  0  \n",
       "2         0.0                  0  \n",
       "3         0.0                  0  \n",
       "4         0.0                  0  \n",
       "\n",
       "[5 rows x 126 columns]"
      ]
     },
     "execution_count": 26,
     "metadata": {},
     "output_type": "execute_result"
    }
   ],
   "source": [
    "df.head()"
   ]
  },
  {
   "cell_type": "code",
   "execution_count": 27,
   "id": "e2cc61be",
   "metadata": {
    "execution": {
     "iopub.execute_input": "2022-08-07T16:09:27.184003Z",
     "iopub.status.busy": "2022-08-07T16:09:27.183614Z",
     "iopub.status.idle": "2022-08-07T16:09:27.208852Z",
     "shell.execute_reply": "2022-08-07T16:09:27.207475Z"
    },
    "papermill": {
     "duration": 0.048346,
     "end_time": "2022-08-07T16:09:27.211319",
     "exception": false,
     "start_time": "2022-08-07T16:09:27.162973",
     "status": "completed"
    },
    "tags": []
   },
   "outputs": [],
   "source": [
    "X = df.drop(['churn_probability','id'],axis=1)\n",
    "y=df['churn_probability']"
   ]
  },
  {
   "cell_type": "code",
   "execution_count": 28,
   "id": "60ed7bdc",
   "metadata": {
    "execution": {
     "iopub.execute_input": "2022-08-07T16:09:27.250232Z",
     "iopub.status.busy": "2022-08-07T16:09:27.249823Z",
     "iopub.status.idle": "2022-08-07T16:09:27.319584Z",
     "shell.execute_reply": "2022-08-07T16:09:27.318438Z"
    },
    "papermill": {
     "duration": 0.092502,
     "end_time": "2022-08-07T16:09:27.322479",
     "exception": false,
     "start_time": "2022-08-07T16:09:27.229977",
     "status": "completed"
    },
    "tags": []
   },
   "outputs": [],
   "source": [
    "X_train,X_test,y_train,y_test = train_test_split(X,y,test_size=0.30,random_state=1)"
   ]
  },
  {
   "cell_type": "code",
   "execution_count": 29,
   "id": "871a5a50",
   "metadata": {
    "execution": {
     "iopub.execute_input": "2022-08-07T16:09:27.360912Z",
     "iopub.status.busy": "2022-08-07T16:09:27.360515Z",
     "iopub.status.idle": "2022-08-07T16:09:27.365550Z",
     "shell.execute_reply": "2022-08-07T16:09:27.364333Z"
    },
    "papermill": {
     "duration": 0.026872,
     "end_time": "2022-08-07T16:09:27.367758",
     "exception": false,
     "start_time": "2022-08-07T16:09:27.340886",
     "status": "completed"
    },
    "tags": []
   },
   "outputs": [],
   "source": [
    "scaler = StandardScaler()"
   ]
  },
  {
   "cell_type": "code",
   "execution_count": 30,
   "id": "1a18ee77",
   "metadata": {
    "execution": {
     "iopub.execute_input": "2022-08-07T16:09:27.407033Z",
     "iopub.status.busy": "2022-08-07T16:09:27.406620Z",
     "iopub.status.idle": "2022-08-07T16:09:27.525890Z",
     "shell.execute_reply": "2022-08-07T16:09:27.524446Z"
    },
    "papermill": {
     "duration": 0.142429,
     "end_time": "2022-08-07T16:09:27.528685",
     "exception": false,
     "start_time": "2022-08-07T16:09:27.386256",
     "status": "completed"
    },
    "tags": []
   },
   "outputs": [],
   "source": [
    "normalized_x_train = pd.DataFrame(scaler.fit_transform(X_train),columns = X_train.columns)"
   ]
  },
  {
   "cell_type": "code",
   "execution_count": 31,
   "id": "f0ffb2eb",
   "metadata": {
    "execution": {
     "iopub.execute_input": "2022-08-07T16:09:27.568676Z",
     "iopub.status.busy": "2022-08-07T16:09:27.567958Z",
     "iopub.status.idle": "2022-08-07T16:09:27.593710Z",
     "shell.execute_reply": "2022-08-07T16:09:27.592368Z"
    },
    "papermill": {
     "duration": 0.04874,
     "end_time": "2022-08-07T16:09:27.596433",
     "exception": false,
     "start_time": "2022-08-07T16:09:27.547693",
     "status": "completed"
    },
    "tags": []
   },
   "outputs": [
    {
     "data": {
      "text/html": [
       "<div>\n",
       "<style scoped>\n",
       "    .dataframe tbody tr th:only-of-type {\n",
       "        vertical-align: middle;\n",
       "    }\n",
       "\n",
       "    .dataframe tbody tr th {\n",
       "        vertical-align: top;\n",
       "    }\n",
       "\n",
       "    .dataframe thead th {\n",
       "        text-align: right;\n",
       "    }\n",
       "</style>\n",
       "<table border=\"1\" class=\"dataframe\">\n",
       "  <thead>\n",
       "    <tr style=\"text-align: right;\">\n",
       "      <th></th>\n",
       "      <th>arpu_6</th>\n",
       "      <th>arpu_7</th>\n",
       "      <th>arpu_8</th>\n",
       "      <th>onnet_mou_6</th>\n",
       "      <th>onnet_mou_7</th>\n",
       "      <th>onnet_mou_8</th>\n",
       "      <th>offnet_mou_6</th>\n",
       "      <th>offnet_mou_7</th>\n",
       "      <th>offnet_mou_8</th>\n",
       "      <th>roam_ic_mou_6</th>\n",
       "      <th>...</th>\n",
       "      <th>monthly_3g_6</th>\n",
       "      <th>monthly_3g_7</th>\n",
       "      <th>monthly_3g_8</th>\n",
       "      <th>sachet_3g_6</th>\n",
       "      <th>sachet_3g_7</th>\n",
       "      <th>sachet_3g_8</th>\n",
       "      <th>aon</th>\n",
       "      <th>aug_vbc_3g</th>\n",
       "      <th>jul_vbc_3g</th>\n",
       "      <th>jun_vbc_3g</th>\n",
       "    </tr>\n",
       "  </thead>\n",
       "  <tbody>\n",
       "    <tr>\n",
       "      <th>0</th>\n",
       "      <td>-0.366467</td>\n",
       "      <td>-0.704611</td>\n",
       "      <td>-0.688557</td>\n",
       "      <td>-0.422846</td>\n",
       "      <td>-0.441626</td>\n",
       "      <td>-0.425644</td>\n",
       "      <td>-0.058685</td>\n",
       "      <td>-0.429430</td>\n",
       "      <td>-0.343880</td>\n",
       "      <td>-0.17456</td>\n",
       "      <td>...</td>\n",
       "      <td>-0.206771</td>\n",
       "      <td>-0.197346</td>\n",
       "      <td>-0.215926</td>\n",
       "      <td>-0.13222</td>\n",
       "      <td>-0.131564</td>\n",
       "      <td>-0.129667</td>\n",
       "      <td>2.061760</td>\n",
       "      <td>-0.263652</td>\n",
       "      <td>-0.255262</td>\n",
       "      <td>-0.236346</td>\n",
       "    </tr>\n",
       "    <tr>\n",
       "      <th>1</th>\n",
       "      <td>-0.043844</td>\n",
       "      <td>-0.027085</td>\n",
       "      <td>0.363402</td>\n",
       "      <td>-0.447459</td>\n",
       "      <td>-0.440980</td>\n",
       "      <td>-0.427161</td>\n",
       "      <td>-0.616720</td>\n",
       "      <td>-0.601751</td>\n",
       "      <td>-0.611337</td>\n",
       "      <td>-0.17456</td>\n",
       "      <td>...</td>\n",
       "      <td>2.554810</td>\n",
       "      <td>2.324838</td>\n",
       "      <td>4.918660</td>\n",
       "      <td>-0.13222</td>\n",
       "      <td>-0.131564</td>\n",
       "      <td>-0.129667</td>\n",
       "      <td>-0.695672</td>\n",
       "      <td>1.871514</td>\n",
       "      <td>1.217453</td>\n",
       "      <td>0.950968</td>\n",
       "    </tr>\n",
       "    <tr>\n",
       "      <th>2</th>\n",
       "      <td>0.335073</td>\n",
       "      <td>-0.218897</td>\n",
       "      <td>-0.867967</td>\n",
       "      <td>0.108294</td>\n",
       "      <td>-0.368781</td>\n",
       "      <td>-0.427161</td>\n",
       "      <td>1.196911</td>\n",
       "      <td>0.504840</td>\n",
       "      <td>-0.614767</td>\n",
       "      <td>-0.17456</td>\n",
       "      <td>...</td>\n",
       "      <td>-0.206771</td>\n",
       "      <td>-0.197346</td>\n",
       "      <td>-0.215926</td>\n",
       "      <td>-0.13222</td>\n",
       "      <td>-0.131564</td>\n",
       "      <td>-0.129667</td>\n",
       "      <td>-0.929353</td>\n",
       "      <td>-0.263652</td>\n",
       "      <td>-0.255262</td>\n",
       "      <td>-0.236346</td>\n",
       "    </tr>\n",
       "    <tr>\n",
       "      <th>3</th>\n",
       "      <td>-0.202895</td>\n",
       "      <td>-0.585606</td>\n",
       "      <td>-0.392506</td>\n",
       "      <td>-0.388259</td>\n",
       "      <td>-0.434355</td>\n",
       "      <td>-0.414271</td>\n",
       "      <td>-0.481939</td>\n",
       "      <td>-0.604053</td>\n",
       "      <td>-0.561646</td>\n",
       "      <td>-0.17456</td>\n",
       "      <td>...</td>\n",
       "      <td>-0.206771</td>\n",
       "      <td>-0.197346</td>\n",
       "      <td>-0.215926</td>\n",
       "      <td>-0.13222</td>\n",
       "      <td>-0.131564</td>\n",
       "      <td>-0.129667</td>\n",
       "      <td>-0.846266</td>\n",
       "      <td>-0.263652</td>\n",
       "      <td>-0.255262</td>\n",
       "      <td>-0.236346</td>\n",
       "    </tr>\n",
       "    <tr>\n",
       "      <th>4</th>\n",
       "      <td>0.119747</td>\n",
       "      <td>0.151212</td>\n",
       "      <td>0.285000</td>\n",
       "      <td>8.457772</td>\n",
       "      <td>5.422515</td>\n",
       "      <td>4.504149</td>\n",
       "      <td>-0.445055</td>\n",
       "      <td>-0.490370</td>\n",
       "      <td>-0.478675</td>\n",
       "      <td>-0.17456</td>\n",
       "      <td>...</td>\n",
       "      <td>-0.206771</td>\n",
       "      <td>-0.197346</td>\n",
       "      <td>-0.215926</td>\n",
       "      <td>-0.13222</td>\n",
       "      <td>-0.131564</td>\n",
       "      <td>-0.129667</td>\n",
       "      <td>-0.267777</td>\n",
       "      <td>-0.069546</td>\n",
       "      <td>0.253099</td>\n",
       "      <td>0.112962</td>\n",
       "    </tr>\n",
       "  </tbody>\n",
       "</table>\n",
       "<p>5 rows × 124 columns</p>\n",
       "</div>"
      ],
      "text/plain": [
       "     arpu_6    arpu_7    arpu_8  onnet_mou_6  onnet_mou_7  onnet_mou_8  \\\n",
       "0 -0.366467 -0.704611 -0.688557    -0.422846    -0.441626    -0.425644   \n",
       "1 -0.043844 -0.027085  0.363402    -0.447459    -0.440980    -0.427161   \n",
       "2  0.335073 -0.218897 -0.867967     0.108294    -0.368781    -0.427161   \n",
       "3 -0.202895 -0.585606 -0.392506    -0.388259    -0.434355    -0.414271   \n",
       "4  0.119747  0.151212  0.285000     8.457772     5.422515     4.504149   \n",
       "\n",
       "   offnet_mou_6  offnet_mou_7  offnet_mou_8  roam_ic_mou_6  ...  monthly_3g_6  \\\n",
       "0     -0.058685     -0.429430     -0.343880       -0.17456  ...     -0.206771   \n",
       "1     -0.616720     -0.601751     -0.611337       -0.17456  ...      2.554810   \n",
       "2      1.196911      0.504840     -0.614767       -0.17456  ...     -0.206771   \n",
       "3     -0.481939     -0.604053     -0.561646       -0.17456  ...     -0.206771   \n",
       "4     -0.445055     -0.490370     -0.478675       -0.17456  ...     -0.206771   \n",
       "\n",
       "   monthly_3g_7  monthly_3g_8  sachet_3g_6  sachet_3g_7  sachet_3g_8  \\\n",
       "0     -0.197346     -0.215926     -0.13222    -0.131564    -0.129667   \n",
       "1      2.324838      4.918660     -0.13222    -0.131564    -0.129667   \n",
       "2     -0.197346     -0.215926     -0.13222    -0.131564    -0.129667   \n",
       "3     -0.197346     -0.215926     -0.13222    -0.131564    -0.129667   \n",
       "4     -0.197346     -0.215926     -0.13222    -0.131564    -0.129667   \n",
       "\n",
       "        aon  aug_vbc_3g  jul_vbc_3g  jun_vbc_3g  \n",
       "0  2.061760   -0.263652   -0.255262   -0.236346  \n",
       "1 -0.695672    1.871514    1.217453    0.950968  \n",
       "2 -0.929353   -0.263652   -0.255262   -0.236346  \n",
       "3 -0.846266   -0.263652   -0.255262   -0.236346  \n",
       "4 -0.267777   -0.069546    0.253099    0.112962  \n",
       "\n",
       "[5 rows x 124 columns]"
      ]
     },
     "execution_count": 31,
     "metadata": {},
     "output_type": "execute_result"
    }
   ],
   "source": [
    "normalized_x_train.head()"
   ]
  },
  {
   "cell_type": "code",
   "execution_count": 32,
   "id": "3b637bd9",
   "metadata": {
    "execution": {
     "iopub.execute_input": "2022-08-07T16:09:27.636486Z",
     "iopub.status.busy": "2022-08-07T16:09:27.635472Z",
     "iopub.status.idle": "2022-08-07T16:09:27.662823Z",
     "shell.execute_reply": "2022-08-07T16:09:27.661713Z"
    },
    "papermill": {
     "duration": 0.050452,
     "end_time": "2022-08-07T16:09:27.665769",
     "exception": false,
     "start_time": "2022-08-07T16:09:27.615317",
     "status": "completed"
    },
    "tags": []
   },
   "outputs": [],
   "source": [
    "normalized_x_test = pd.DataFrame(scaler.transform(X_test),columns = X_test.columns)"
   ]
  },
  {
   "cell_type": "code",
   "execution_count": 33,
   "id": "676bbecb",
   "metadata": {
    "execution": {
     "iopub.execute_input": "2022-08-07T16:09:27.706637Z",
     "iopub.status.busy": "2022-08-07T16:09:27.705529Z",
     "iopub.status.idle": "2022-08-07T16:09:27.714516Z",
     "shell.execute_reply": "2022-08-07T16:09:27.713633Z"
    },
    "papermill": {
     "duration": 0.031905,
     "end_time": "2022-08-07T16:09:27.716606",
     "exception": false,
     "start_time": "2022-08-07T16:09:27.684701",
     "status": "completed"
    },
    "tags": []
   },
   "outputs": [],
   "source": [
    "def confusion_matrix_plot(matrix=None,classes=None,name='Logistic Regression'):\n",
    "    plt.figure(figsize=(12,10))\n",
    "    cmap = \"YlGnBu\"\n",
    "    ax= plt.subplot()\n",
    "    sns.heatmap(matrix, annot=True, fmt='g', ax=ax, cmap=cmap);  #annot=True to annotate cells, ftm='g' to disable scientific notation\n",
    "    plt.savefig('/kaggle/working/img1.png')\n",
    "    # labels, title and ticks\n",
    "    ax.set_xlabel('Predicted labels',fontsize = 15,fontweight = 3);\n",
    "    ax.set_ylabel('True labels',fontsize = 15,fontweight = 3); \n",
    "    ax.set_title('Confusion Matrix of '+name,fontsize = 25,fontweight = 5); \n",
    "    ax.xaxis.set_ticklabels(classes); \n",
    "    ax.yaxis.set_ticklabels(classes[::-1]);\n",
    "    plt.show()"
   ]
  },
  {
   "cell_type": "code",
   "execution_count": 34,
   "id": "8beff7e6",
   "metadata": {
    "execution": {
     "iopub.execute_input": "2022-08-07T16:09:27.756355Z",
     "iopub.status.busy": "2022-08-07T16:09:27.755690Z",
     "iopub.status.idle": "2022-08-07T16:09:27.762260Z",
     "shell.execute_reply": "2022-08-07T16:09:27.761461Z"
    },
    "papermill": {
     "duration": 0.029234,
     "end_time": "2022-08-07T16:09:27.764662",
     "exception": false,
     "start_time": "2022-08-07T16:09:27.735428",
     "status": "completed"
    },
    "tags": []
   },
   "outputs": [],
   "source": [
    "def cal_score(x_test=None,y_test=None,model=None,name=None):\n",
    "    predictions = model.predict(x_test)\n",
    "    labels=y_test\n",
    "    matrix = confusion_matrix(predictions, labels)\n",
    "    print(matrix)\n",
    "    print('\\n')\n",
    "\n",
    "    f1 = f1_score(predictions, labels, average='weighted')\n",
    "    print(f'F1 Score: {f1}')\n",
    "    print('\\n')\n",
    "    classes=[False,True]\n",
    "    print(classification_report(predictions, labels, labels=classes))\n",
    "    \n",
    "    confusion_matrix_plot(matrix = matrix,classes = classes,name = name)"
   ]
  },
  {
   "cell_type": "code",
   "execution_count": 35,
   "id": "da48eb2c",
   "metadata": {
    "execution": {
     "iopub.execute_input": "2022-08-07T16:09:27.804145Z",
     "iopub.status.busy": "2022-08-07T16:09:27.803492Z",
     "iopub.status.idle": "2022-08-07T16:09:31.178764Z",
     "shell.execute_reply": "2022-08-07T16:09:31.177912Z"
    },
    "papermill": {
     "duration": 3.397714,
     "end_time": "2022-08-07T16:09:31.181216",
     "exception": false,
     "start_time": "2022-08-07T16:09:27.783502",
     "status": "completed"
    },
    "tags": []
   },
   "outputs": [
    {
     "name": "stdout",
     "output_type": "stream",
     "text": [
      "[[17377  1029]\n",
      " [   90    73]]\n",
      "\n",
      "\n",
      "F1 Score: 0.9613154912968694\n",
      "\n",
      "\n",
      "              precision    recall  f1-score   support\n",
      "\n",
      "       False       0.99      0.94      0.97     18406\n",
      "        True       0.07      0.45      0.12       163\n",
      "\n",
      "    accuracy                           0.94     18569\n",
      "   macro avg       0.53      0.70      0.54     18569\n",
      "weighted avg       0.99      0.94      0.96     18569\n",
      "\n"
     ]
    },
    {
     "data": {
      "image/png": "[encoded data removed]",
      "text/plain": [
       "<Figure size 864x720 with 2 Axes>"
      ]
     },
     "metadata": {
      "needs_background": "light"
     },
     "output_type": "display_data"
    }
   ],
   "source": [
    "lr = LogisticRegression(max_iter=10000)\n",
    "lr.fit(normalized_x_train,y_train)\n",
    "cal_score(x_test=normalized_x_test,y_test=y_test,model=lr,name='Logistic Regression')"
   ]
  },
  {
   "cell_type": "code",
   "execution_count": 36,
   "id": "edf929e3",
   "metadata": {
    "execution": {
     "iopub.execute_input": "2022-08-07T16:09:31.222947Z",
     "iopub.status.busy": "2022-08-07T16:09:31.221951Z",
     "iopub.status.idle": "2022-08-07T16:09:41.872581Z",
     "shell.execute_reply": "2022-08-07T16:09:41.871444Z"
    },
    "papermill": {
     "duration": 10.673833,
     "end_time": "2022-08-07T16:09:41.875067",
     "exception": false,
     "start_time": "2022-08-07T16:09:31.201234",
     "status": "completed"
    },
    "tags": []
   },
   "outputs": [
    {
     "name": "stdout",
     "output_type": "stream",
     "text": [
      "[[16640   689]\n",
      " [  827   413]]\n",
      "\n",
      "\n",
      "F1 Score: 0.9161151283429001\n",
      "\n",
      "\n",
      "              precision    recall  f1-score   support\n",
      "\n",
      "       False       0.95      0.96      0.96     17329\n",
      "        True       0.37      0.33      0.35      1240\n",
      "\n",
      "    accuracy                           0.92     18569\n",
      "   macro avg       0.66      0.65      0.65     18569\n",
      "weighted avg       0.91      0.92      0.92     18569\n",
      "\n"
     ]
    },
    {
     "data": {
      "image/png": "[encoded data removed]",
      "text/plain": [
       "<Figure size 864x720 with 2 Axes>"
      ]
     },
     "metadata": {
      "needs_background": "light"
     },
     "output_type": "display_data"
    }
   ],
   "source": [
    "dr = DecisionTreeClassifier()\n",
    "dr.fit(normalized_x_train,y_train)\n",
    "cal_score(x_test=normalized_x_test,y_test=y_test,model=dr,name='Decision Tree')"
   ]
  },
  {
   "cell_type": "code",
   "execution_count": 37,
   "id": "b7128e71",
   "metadata": {
    "execution": {
     "iopub.execute_input": "2022-08-07T16:09:41.916232Z",
     "iopub.status.busy": "2022-08-07T16:09:41.915593Z",
     "iopub.status.idle": "2022-08-07T16:10:22.504759Z",
     "shell.execute_reply": "2022-08-07T16:10:22.503336Z"
    },
    "papermill": {
     "duration": 40.612654,
     "end_time": "2022-08-07T16:10:22.507542",
     "exception": false,
     "start_time": "2022-08-07T16:09:41.894888",
     "status": "completed"
    },
    "tags": []
   },
   "outputs": [
    {
     "name": "stdout",
     "output_type": "stream",
     "text": [
      "[[17294   768]\n",
      " [  173   334]]\n",
      "\n",
      "\n",
      "F1 Score: 0.9582696480049888\n",
      "\n",
      "\n",
      "              precision    recall  f1-score   support\n",
      "\n",
      "       False       0.99      0.96      0.97     18062\n",
      "        True       0.30      0.66      0.42       507\n",
      "\n",
      "    accuracy                           0.95     18569\n",
      "   macro avg       0.65      0.81      0.69     18569\n",
      "weighted avg       0.97      0.95      0.96     18569\n",
      "\n"
     ]
    },
    {
     "data": {
      "image/png": "[encoded data removed]",
      "text/plain": [
       "<Figure size 864x720 with 2 Axes>"
      ]
     },
     "metadata": {
      "needs_background": "light"
     },
     "output_type": "display_data"
    }
   ],
   "source": [
    "rf = RandomForestClassifier()\n",
    "rf.fit(normalized_x_train,y_train)\n",
    "cal_score(x_test=normalized_x_test,y_test=y_test,model=rf,name='Random Forest')"
   ]
  },
  {
   "cell_type": "code",
   "execution_count": 38,
   "id": "c264c57c",
   "metadata": {
    "execution": {
     "iopub.execute_input": "2022-08-07T16:10:22.551512Z",
     "iopub.status.busy": "2022-08-07T16:10:22.550449Z",
     "iopub.status.idle": "2022-08-07T16:10:22.579349Z",
     "shell.execute_reply": "2022-08-07T16:10:22.578272Z"
    },
    "papermill": {
     "duration": 0.05364,
     "end_time": "2022-08-07T16:10:22.581867",
     "exception": false,
     "start_time": "2022-08-07T16:10:22.528227",
     "status": "completed"
    },
    "tags": []
   },
   "outputs": [
    {
     "data": {
      "text/html": [
       "<div>\n",
       "<style scoped>\n",
       "    .dataframe tbody tr th:only-of-type {\n",
       "        vertical-align: middle;\n",
       "    }\n",
       "\n",
       "    .dataframe tbody tr th {\n",
       "        vertical-align: top;\n",
       "    }\n",
       "\n",
       "    .dataframe thead th {\n",
       "        text-align: right;\n",
       "    }\n",
       "</style>\n",
       "<table border=\"1\" class=\"dataframe\">\n",
       "  <thead>\n",
       "    <tr style=\"text-align: right;\">\n",
       "      <th></th>\n",
       "      <th>Feature</th>\n",
       "      <th>Importance</th>\n",
       "    </tr>\n",
       "  </thead>\n",
       "  <tbody>\n",
       "    <tr>\n",
       "      <th>80</th>\n",
       "      <td>total_ic_mou_8</td>\n",
       "      <td>0.048303</td>\n",
       "    </tr>\n",
       "    <tr>\n",
       "      <th>59</th>\n",
       "      <td>loc_ic_t2m_mou_8</td>\n",
       "      <td>0.037516</td>\n",
       "    </tr>\n",
       "    <tr>\n",
       "      <th>65</th>\n",
       "      <td>loc_ic_mou_8</td>\n",
       "      <td>0.036696</td>\n",
       "    </tr>\n",
       "    <tr>\n",
       "      <th>14</th>\n",
       "      <td>roam_og_mou_8</td>\n",
       "      <td>0.030121</td>\n",
       "    </tr>\n",
       "    <tr>\n",
       "      <th>11</th>\n",
       "      <td>roam_ic_mou_8</td>\n",
       "      <td>0.029735</td>\n",
       "    </tr>\n",
       "    <tr>\n",
       "      <th>...</th>\n",
       "      <td>...</td>\n",
       "      <td>...</td>\n",
       "    </tr>\n",
       "    <tr>\n",
       "      <th>110</th>\n",
       "      <td>monthly_2g_8</td>\n",
       "      <td>0.000568</td>\n",
       "    </tr>\n",
       "    <tr>\n",
       "      <th>114</th>\n",
       "      <td>monthly_3g_6</td>\n",
       "      <td>0.000522</td>\n",
       "    </tr>\n",
       "    <tr>\n",
       "      <th>116</th>\n",
       "      <td>monthly_3g_8</td>\n",
       "      <td>0.000342</td>\n",
       "    </tr>\n",
       "    <tr>\n",
       "      <th>50</th>\n",
       "      <td>og_others_8</td>\n",
       "      <td>0.000132</td>\n",
       "    </tr>\n",
       "    <tr>\n",
       "      <th>49</th>\n",
       "      <td>og_others_7</td>\n",
       "      <td>0.000127</td>\n",
       "    </tr>\n",
       "  </tbody>\n",
       "</table>\n",
       "<p>124 rows × 2 columns</p>\n",
       "</div>"
      ],
      "text/plain": [
       "              Feature  Importance\n",
       "80     total_ic_mou_8    0.048303\n",
       "59   loc_ic_t2m_mou_8    0.037516\n",
       "65       loc_ic_mou_8    0.036696\n",
       "14      roam_og_mou_8    0.030121\n",
       "11      roam_ic_mou_8    0.029735\n",
       "..                ...         ...\n",
       "110      monthly_2g_8    0.000568\n",
       "114      monthly_3g_6    0.000522\n",
       "116      monthly_3g_8    0.000342\n",
       "50        og_others_8    0.000132\n",
       "49        og_others_7    0.000127\n",
       "\n",
       "[124 rows x 2 columns]"
      ]
     },
     "execution_count": 38,
     "metadata": {},
     "output_type": "execute_result"
    }
   ],
   "source": [
    "pd.DataFrame({\n",
    "    'Feature':rf.feature_names_in_,\n",
    "    'Importance':rf.feature_importances_}).sort_values(by='Importance',ascending=False)"
   ]
  },
  {
   "cell_type": "code",
   "execution_count": 39,
   "id": "fcc52ac1",
   "metadata": {
    "execution": {
     "iopub.execute_input": "2022-08-07T16:10:22.625603Z",
     "iopub.status.busy": "2022-08-07T16:10:22.624879Z",
     "iopub.status.idle": "2022-08-07T16:10:23.394540Z",
     "shell.execute_reply": "2022-08-07T16:10:23.393362Z"
    },
    "papermill": {
     "duration": 0.794625,
     "end_time": "2022-08-07T16:10:23.397326",
     "exception": false,
     "start_time": "2022-08-07T16:10:22.602701",
     "status": "completed"
    },
    "tags": []
   },
   "outputs": [],
   "source": [
    "test_df = pd.read_csv('../input/telecom-churn-case-study-hackathon-38/test (1).csv')"
   ]
  },
  {
   "cell_type": "code",
   "execution_count": 40,
   "id": "3ad4e6b1",
   "metadata": {
    "execution": {
     "iopub.execute_input": "2022-08-07T16:10:23.440785Z",
     "iopub.status.busy": "2022-08-07T16:10:23.440350Z",
     "iopub.status.idle": "2022-08-07T16:10:23.460037Z",
     "shell.execute_reply": "2022-08-07T16:10:23.459193Z"
    },
    "papermill": {
     "duration": 0.044499,
     "end_time": "2022-08-07T16:10:23.462651",
     "exception": false,
     "start_time": "2022-08-07T16:10:23.418152",
     "status": "completed"
    },
    "tags": []
   },
   "outputs": [],
   "source": [
    "sol_df = pd.read_csv('../input/telecom-churn-case-study-hackathon-38/solution (1).csv')\n",
    "dict_df = pd.read_csv('../input/telecom-churn-case-study-hackathon-38/data_dictionary.csv')\n"
   ]
  },
  {
   "cell_type": "code",
   "execution_count": 41,
   "id": "0a0b2e53",
   "metadata": {
    "execution": {
     "iopub.execute_input": "2022-08-07T16:10:23.506573Z",
     "iopub.status.busy": "2022-08-07T16:10:23.506142Z",
     "iopub.status.idle": "2022-08-07T16:10:23.534418Z",
     "shell.execute_reply": "2022-08-07T16:10:23.533178Z"
    },
    "papermill": {
     "duration": 0.053588,
     "end_time": "2022-08-07T16:10:23.537484",
     "exception": false,
     "start_time": "2022-08-07T16:10:23.483896",
     "status": "completed"
    },
    "tags": []
   },
   "outputs": [
    {
     "data": {
      "text/html": [
       "<div>\n",
       "<style scoped>\n",
       "    .dataframe tbody tr th:only-of-type {\n",
       "        vertical-align: middle;\n",
       "    }\n",
       "\n",
       "    .dataframe tbody tr th {\n",
       "        vertical-align: top;\n",
       "    }\n",
       "\n",
       "    .dataframe thead th {\n",
       "        text-align: right;\n",
       "    }\n",
       "</style>\n",
       "<table border=\"1\" class=\"dataframe\">\n",
       "  <thead>\n",
       "    <tr style=\"text-align: right;\">\n",
       "      <th></th>\n",
       "      <th>id</th>\n",
       "      <th>circle_id</th>\n",
       "      <th>loc_og_t2o_mou</th>\n",
       "      <th>std_og_t2o_mou</th>\n",
       "      <th>loc_ic_t2o_mou</th>\n",
       "      <th>last_date_of_month_6</th>\n",
       "      <th>last_date_of_month_7</th>\n",
       "      <th>last_date_of_month_8</th>\n",
       "      <th>arpu_6</th>\n",
       "      <th>arpu_7</th>\n",
       "      <th>...</th>\n",
       "      <th>sachet_3g_6</th>\n",
       "      <th>sachet_3g_7</th>\n",
       "      <th>sachet_3g_8</th>\n",
       "      <th>fb_user_6</th>\n",
       "      <th>fb_user_7</th>\n",
       "      <th>fb_user_8</th>\n",
       "      <th>aon</th>\n",
       "      <th>aug_vbc_3g</th>\n",
       "      <th>jul_vbc_3g</th>\n",
       "      <th>jun_vbc_3g</th>\n",
       "    </tr>\n",
       "  </thead>\n",
       "  <tbody>\n",
       "    <tr>\n",
       "      <th>0</th>\n",
       "      <td>69999</td>\n",
       "      <td>109</td>\n",
       "      <td>0.0</td>\n",
       "      <td>0.0</td>\n",
       "      <td>0.0</td>\n",
       "      <td>6/30/2014</td>\n",
       "      <td>7/31/2014</td>\n",
       "      <td>8/31/2014</td>\n",
       "      <td>91.882</td>\n",
       "      <td>65.330</td>\n",
       "      <td>...</td>\n",
       "      <td>0</td>\n",
       "      <td>0</td>\n",
       "      <td>0</td>\n",
       "      <td>NaN</td>\n",
       "      <td>NaN</td>\n",
       "      <td>NaN</td>\n",
       "      <td>1692</td>\n",
       "      <td>0.00</td>\n",
       "      <td>0.00</td>\n",
       "      <td>0.00</td>\n",
       "    </tr>\n",
       "    <tr>\n",
       "      <th>1</th>\n",
       "      <td>70000</td>\n",
       "      <td>109</td>\n",
       "      <td>0.0</td>\n",
       "      <td>0.0</td>\n",
       "      <td>0.0</td>\n",
       "      <td>6/30/2014</td>\n",
       "      <td>7/31/2014</td>\n",
       "      <td>8/31/2014</td>\n",
       "      <td>414.168</td>\n",
       "      <td>515.568</td>\n",
       "      <td>...</td>\n",
       "      <td>0</td>\n",
       "      <td>0</td>\n",
       "      <td>0</td>\n",
       "      <td>NaN</td>\n",
       "      <td>NaN</td>\n",
       "      <td>NaN</td>\n",
       "      <td>2533</td>\n",
       "      <td>0.00</td>\n",
       "      <td>0.00</td>\n",
       "      <td>0.00</td>\n",
       "    </tr>\n",
       "    <tr>\n",
       "      <th>2</th>\n",
       "      <td>70001</td>\n",
       "      <td>109</td>\n",
       "      <td>0.0</td>\n",
       "      <td>0.0</td>\n",
       "      <td>0.0</td>\n",
       "      <td>6/30/2014</td>\n",
       "      <td>7/31/2014</td>\n",
       "      <td>8/31/2014</td>\n",
       "      <td>329.844</td>\n",
       "      <td>434.884</td>\n",
       "      <td>...</td>\n",
       "      <td>0</td>\n",
       "      <td>0</td>\n",
       "      <td>0</td>\n",
       "      <td>NaN</td>\n",
       "      <td>NaN</td>\n",
       "      <td>NaN</td>\n",
       "      <td>277</td>\n",
       "      <td>525.61</td>\n",
       "      <td>758.41</td>\n",
       "      <td>241.84</td>\n",
       "    </tr>\n",
       "    <tr>\n",
       "      <th>3</th>\n",
       "      <td>70002</td>\n",
       "      <td>109</td>\n",
       "      <td>0.0</td>\n",
       "      <td>0.0</td>\n",
       "      <td>0.0</td>\n",
       "      <td>6/30/2014</td>\n",
       "      <td>7/31/2014</td>\n",
       "      <td>8/31/2014</td>\n",
       "      <td>43.550</td>\n",
       "      <td>171.390</td>\n",
       "      <td>...</td>\n",
       "      <td>0</td>\n",
       "      <td>0</td>\n",
       "      <td>0</td>\n",
       "      <td>NaN</td>\n",
       "      <td>NaN</td>\n",
       "      <td>NaN</td>\n",
       "      <td>1244</td>\n",
       "      <td>0.00</td>\n",
       "      <td>0.00</td>\n",
       "      <td>0.00</td>\n",
       "    </tr>\n",
       "    <tr>\n",
       "      <th>4</th>\n",
       "      <td>70003</td>\n",
       "      <td>109</td>\n",
       "      <td>0.0</td>\n",
       "      <td>0.0</td>\n",
       "      <td>0.0</td>\n",
       "      <td>6/30/2014</td>\n",
       "      <td>7/31/2014</td>\n",
       "      <td>8/31/2014</td>\n",
       "      <td>306.854</td>\n",
       "      <td>406.289</td>\n",
       "      <td>...</td>\n",
       "      <td>0</td>\n",
       "      <td>0</td>\n",
       "      <td>0</td>\n",
       "      <td>NaN</td>\n",
       "      <td>NaN</td>\n",
       "      <td>NaN</td>\n",
       "      <td>462</td>\n",
       "      <td>0.00</td>\n",
       "      <td>0.00</td>\n",
       "      <td>0.00</td>\n",
       "    </tr>\n",
       "  </tbody>\n",
       "</table>\n",
       "<p>5 rows × 171 columns</p>\n",
       "</div>"
      ],
      "text/plain": [
       "      id  circle_id  loc_og_t2o_mou  std_og_t2o_mou  loc_ic_t2o_mou  \\\n",
       "0  69999        109             0.0             0.0             0.0   \n",
       "1  70000        109             0.0             0.0             0.0   \n",
       "2  70001        109             0.0             0.0             0.0   \n",
       "3  70002        109             0.0             0.0             0.0   \n",
       "4  70003        109             0.0             0.0             0.0   \n",
       "\n",
       "  last_date_of_month_6 last_date_of_month_7 last_date_of_month_8   arpu_6  \\\n",
       "0            6/30/2014            7/31/2014            8/31/2014   91.882   \n",
       "1            6/30/2014            7/31/2014            8/31/2014  414.168   \n",
       "2            6/30/2014            7/31/2014            8/31/2014  329.844   \n",
       "3            6/30/2014            7/31/2014            8/31/2014   43.550   \n",
       "4            6/30/2014            7/31/2014            8/31/2014  306.854   \n",
       "\n",
       "    arpu_7  ...  sachet_3g_6  sachet_3g_7  sachet_3g_8  fb_user_6  fb_user_7  \\\n",
       "0   65.330  ...            0            0            0        NaN        NaN   \n",
       "1  515.568  ...            0            0            0        NaN        NaN   \n",
       "2  434.884  ...            0            0            0        NaN        NaN   \n",
       "3  171.390  ...            0            0            0        NaN        NaN   \n",
       "4  406.289  ...            0            0            0        NaN        NaN   \n",
       "\n",
       "   fb_user_8   aon  aug_vbc_3g  jul_vbc_3g  jun_vbc_3g  \n",
       "0        NaN  1692        0.00        0.00        0.00  \n",
       "1        NaN  2533        0.00        0.00        0.00  \n",
       "2        NaN   277      525.61      758.41      241.84  \n",
       "3        NaN  1244        0.00        0.00        0.00  \n",
       "4        NaN   462        0.00        0.00        0.00  \n",
       "\n",
       "[5 rows x 171 columns]"
      ]
     },
     "execution_count": 41,
     "metadata": {},
     "output_type": "execute_result"
    }
   ],
   "source": [
    "test_df.head()"
   ]
  },
  {
   "cell_type": "code",
   "execution_count": 42,
   "id": "dba7a207",
   "metadata": {
    "execution": {
     "iopub.execute_input": "2022-08-07T16:10:23.581349Z",
     "iopub.status.busy": "2022-08-07T16:10:23.580933Z",
     "iopub.status.idle": "2022-08-07T16:10:23.611850Z",
     "shell.execute_reply": "2022-08-07T16:10:23.610941Z"
    },
    "papermill": {
     "duration": 0.055788,
     "end_time": "2022-08-07T16:10:23.614143",
     "exception": false,
     "start_time": "2022-08-07T16:10:23.558355",
     "status": "completed"
    },
    "tags": []
   },
   "outputs": [
    {
     "data": {
      "text/plain": [
       "id                    0\n",
       "circle_id             0\n",
       "loc_og_t2o_mou      316\n",
       "std_og_t2o_mou      316\n",
       "loc_ic_t2o_mou      316\n",
       "                  ...  \n",
       "fb_user_8         22078\n",
       "aon                   0\n",
       "aug_vbc_3g            0\n",
       "jul_vbc_3g            0\n",
       "jun_vbc_3g            0\n",
       "Length: 171, dtype: int64"
      ]
     },
     "execution_count": 42,
     "metadata": {},
     "output_type": "execute_result"
    }
   ],
   "source": [
    "test_df.isnull().sum()"
   ]
  },
  {
   "cell_type": "code",
   "execution_count": 43,
   "id": "c10e187a",
   "metadata": {
    "execution": {
     "iopub.execute_input": "2022-08-07T16:10:23.659684Z",
     "iopub.status.busy": "2022-08-07T16:10:23.658567Z",
     "iopub.status.idle": "2022-08-07T16:10:23.663309Z",
     "shell.execute_reply": "2022-08-07T16:10:23.662551Z"
    },
    "papermill": {
     "duration": 0.029619,
     "end_time": "2022-08-07T16:10:23.665474",
     "exception": false,
     "start_time": "2022-08-07T16:10:23.635855",
     "status": "completed"
    },
    "tags": []
   },
   "outputs": [],
   "source": [
    "a = test_df['id']"
   ]
  },
  {
   "cell_type": "code",
   "execution_count": 44,
   "id": "2e28c1e8",
   "metadata": {
    "execution": {
     "iopub.execute_input": "2022-08-07T16:10:23.710438Z",
     "iopub.status.busy": "2022-08-07T16:10:23.709438Z",
     "iopub.status.idle": "2022-08-07T16:10:23.721919Z",
     "shell.execute_reply": "2022-08-07T16:10:23.720838Z"
    },
    "papermill": {
     "duration": 0.037614,
     "end_time": "2022-08-07T16:10:23.724341",
     "exception": false,
     "start_time": "2022-08-07T16:10:23.686727",
     "status": "completed"
    },
    "tags": []
   },
   "outputs": [],
   "source": [
    "test_df = test_df[X.columns]"
   ]
  },
  {
   "cell_type": "code",
   "execution_count": 45,
   "id": "6e9c21ba",
   "metadata": {
    "execution": {
     "iopub.execute_input": "2022-08-07T16:10:23.768923Z",
     "iopub.status.busy": "2022-08-07T16:10:23.768297Z",
     "iopub.status.idle": "2022-08-07T16:10:23.785281Z",
     "shell.execute_reply": "2022-08-07T16:10:23.784448Z"
    },
    "papermill": {
     "duration": 0.041812,
     "end_time": "2022-08-07T16:10:23.787658",
     "exception": false,
     "start_time": "2022-08-07T16:10:23.745846",
     "status": "completed"
    },
    "tags": []
   },
   "outputs": [
    {
     "data": {
      "text/plain": [
       "arpu_6            0\n",
       "arpu_7            0\n",
       "arpu_8            0\n",
       "onnet_mou_6    1169\n",
       "onnet_mou_7    1172\n",
       "               ... \n",
       "sachet_3g_8       0\n",
       "aon               0\n",
       "aug_vbc_3g        0\n",
       "jul_vbc_3g        0\n",
       "jun_vbc_3g        0\n",
       "Length: 124, dtype: int64"
      ]
     },
     "execution_count": 45,
     "metadata": {},
     "output_type": "execute_result"
    }
   ],
   "source": [
    "test_df.isnull().sum()"
   ]
  },
  {
   "cell_type": "code",
   "execution_count": 46,
   "id": "78438458",
   "metadata": {
    "execution": {
     "iopub.execute_input": "2022-08-07T16:10:23.832550Z",
     "iopub.status.busy": "2022-08-07T16:10:23.831945Z",
     "iopub.status.idle": "2022-08-07T16:10:23.846686Z",
     "shell.execute_reply": "2022-08-07T16:10:23.845897Z"
    },
    "papermill": {
     "duration": 0.03965,
     "end_time": "2022-08-07T16:10:23.848893",
     "exception": false,
     "start_time": "2022-08-07T16:10:23.809243",
     "status": "completed"
    },
    "tags": []
   },
   "outputs": [
    {
     "data": {
      "text/plain": [
       "2.9148387096774195"
      ]
     },
     "execution_count": 46,
     "metadata": {},
     "output_type": "execute_result"
    }
   ],
   "source": [
    "percent_null = test_df.isnull().sum().sum() / np.product(test_df.shape) * 100\n",
    "percent_null"
   ]
  },
  {
   "cell_type": "code",
   "execution_count": 47,
   "id": "aa3e0c22",
   "metadata": {
    "execution": {
     "iopub.execute_input": "2022-08-07T16:10:23.894294Z",
     "iopub.status.busy": "2022-08-07T16:10:23.893374Z",
     "iopub.status.idle": "2022-08-07T16:10:23.938247Z",
     "shell.execute_reply": "2022-08-07T16:10:23.937150Z"
    },
    "papermill": {
     "duration": 0.071133,
     "end_time": "2022-08-07T16:10:23.941664",
     "exception": false,
     "start_time": "2022-08-07T16:10:23.870531",
     "status": "completed"
    },
    "tags": []
   },
   "outputs": [
    {
     "name": "stdout",
     "output_type": "stream",
     "text": [
      "arpu_6 : 0.00\n",
      "arpu_7 : 0.00\n",
      "arpu_8 : 0.00\n",
      "onnet_mou_6 : 3.90\n",
      "onnet_mou_7 : 3.91\n",
      "onnet_mou_8 : 5.58\n",
      "offnet_mou_6 : 3.90\n",
      "offnet_mou_7 : 3.91\n",
      "offnet_mou_8 : 5.58\n",
      "roam_ic_mou_6 : 3.90\n",
      "roam_ic_mou_7 : 3.91\n",
      "roam_ic_mou_8 : 5.58\n",
      "roam_og_mou_6 : 3.90\n",
      "roam_og_mou_7 : 3.91\n",
      "roam_og_mou_8 : 5.58\n",
      "loc_og_t2t_mou_6 : 3.90\n",
      "loc_og_t2t_mou_7 : 3.91\n",
      "loc_og_t2t_mou_8 : 5.58\n",
      "loc_og_t2m_mou_6 : 3.90\n",
      "loc_og_t2m_mou_7 : 3.91\n",
      "loc_og_t2m_mou_8 : 5.58\n",
      "loc_og_t2f_mou_6 : 3.90\n",
      "loc_og_t2f_mou_7 : 3.91\n",
      "loc_og_t2f_mou_8 : 5.58\n",
      "loc_og_t2c_mou_6 : 3.90\n",
      "loc_og_t2c_mou_7 : 3.91\n",
      "loc_og_t2c_mou_8 : 5.58\n",
      "loc_og_mou_6 : 3.90\n",
      "loc_og_mou_7 : 3.91\n",
      "loc_og_mou_8 : 5.58\n",
      "std_og_t2t_mou_6 : 3.90\n",
      "std_og_t2t_mou_7 : 3.91\n",
      "std_og_t2t_mou_8 : 5.58\n",
      "std_og_t2m_mou_6 : 3.90\n",
      "std_og_t2m_mou_7 : 3.91\n",
      "std_og_t2m_mou_8 : 5.58\n",
      "std_og_t2f_mou_6 : 3.90\n",
      "std_og_t2f_mou_7 : 3.91\n",
      "std_og_t2f_mou_8 : 5.58\n",
      "std_og_mou_6 : 3.90\n",
      "std_og_mou_7 : 3.91\n",
      "std_og_mou_8 : 5.58\n",
      "isd_og_mou_6 : 3.90\n",
      "isd_og_mou_7 : 3.91\n",
      "isd_og_mou_8 : 5.58\n",
      "spl_og_mou_6 : 3.90\n",
      "spl_og_mou_7 : 3.91\n",
      "spl_og_mou_8 : 5.58\n",
      "og_others_6 : 3.90\n",
      "og_others_7 : 3.91\n",
      "og_others_8 : 5.58\n",
      "total_og_mou_6 : 0.00\n",
      "total_og_mou_7 : 0.00\n",
      "total_og_mou_8 : 0.00\n",
      "loc_ic_t2t_mou_6 : 3.90\n",
      "loc_ic_t2t_mou_7 : 3.91\n",
      "loc_ic_t2t_mou_8 : 5.58\n",
      "loc_ic_t2m_mou_6 : 3.90\n",
      "loc_ic_t2m_mou_7 : 3.91\n",
      "loc_ic_t2m_mou_8 : 5.58\n",
      "loc_ic_t2f_mou_6 : 3.90\n",
      "loc_ic_t2f_mou_7 : 3.91\n",
      "loc_ic_t2f_mou_8 : 5.58\n",
      "loc_ic_mou_6 : 3.90\n",
      "loc_ic_mou_7 : 3.91\n",
      "loc_ic_mou_8 : 5.58\n",
      "std_ic_t2t_mou_6 : 3.90\n",
      "std_ic_t2t_mou_7 : 3.91\n",
      "std_ic_t2t_mou_8 : 5.58\n",
      "std_ic_t2m_mou_6 : 3.90\n",
      "std_ic_t2m_mou_7 : 3.91\n",
      "std_ic_t2m_mou_8 : 5.58\n",
      "std_ic_t2f_mou_6 : 3.90\n",
      "std_ic_t2f_mou_7 : 3.91\n",
      "std_ic_t2f_mou_8 : 5.58\n",
      "std_ic_mou_6 : 3.90\n",
      "std_ic_mou_7 : 3.91\n",
      "std_ic_mou_8 : 5.58\n",
      "total_ic_mou_6 : 0.00\n",
      "total_ic_mou_7 : 0.00\n",
      "total_ic_mou_8 : 0.00\n",
      "spl_ic_mou_6 : 3.90\n",
      "spl_ic_mou_7 : 3.91\n",
      "spl_ic_mou_8 : 5.58\n",
      "isd_ic_mou_6 : 3.90\n",
      "isd_ic_mou_7 : 3.91\n",
      "isd_ic_mou_8 : 5.58\n",
      "ic_others_6 : 3.90\n",
      "ic_others_7 : 3.91\n",
      "ic_others_8 : 5.58\n",
      "total_rech_num_6 : 0.00\n",
      "total_rech_num_7 : 0.00\n",
      "total_rech_num_8 : 0.00\n",
      "total_rech_amt_6 : 0.00\n",
      "total_rech_amt_7 : 0.00\n",
      "total_rech_amt_8 : 0.00\n",
      "max_rech_amt_6 : 0.00\n",
      "max_rech_amt_7 : 0.00\n",
      "max_rech_amt_8 : 0.00\n",
      "last_day_rch_amt_6 : 0.00\n",
      "last_day_rch_amt_7 : 0.00\n",
      "last_day_rch_amt_8 : 0.00\n",
      "vol_2g_mb_6 : 0.00\n",
      "vol_2g_mb_7 : 0.00\n",
      "vol_2g_mb_8 : 0.00\n",
      "vol_3g_mb_6 : 0.00\n",
      "vol_3g_mb_7 : 0.00\n",
      "vol_3g_mb_8 : 0.00\n",
      "monthly_2g_6 : 0.00\n",
      "monthly_2g_7 : 0.00\n",
      "monthly_2g_8 : 0.00\n",
      "sachet_2g_6 : 0.00\n",
      "sachet_2g_7 : 0.00\n",
      "sachet_2g_8 : 0.00\n",
      "monthly_3g_6 : 0.00\n",
      "monthly_3g_7 : 0.00\n",
      "monthly_3g_8 : 0.00\n",
      "sachet_3g_6 : 0.00\n",
      "sachet_3g_7 : 0.00\n",
      "sachet_3g_8 : 0.00\n",
      "aon : 0.00\n",
      "aug_vbc_3g : 0.00\n",
      "jul_vbc_3g : 0.00\n",
      "jun_vbc_3g : 0.00\n"
     ]
    }
   ],
   "source": [
    "for col in test_df.columns:\n",
    "    null_col = test_df[col].isnull().sum() / test_df.shape[0] * 100\n",
    "    print(\"{} : {:.2f}\".format(col,null_col))"
   ]
  },
  {
   "cell_type": "code",
   "execution_count": 48,
   "id": "47b8d727",
   "metadata": {
    "execution": {
     "iopub.execute_input": "2022-08-07T16:10:23.986782Z",
     "iopub.status.busy": "2022-08-07T16:10:23.986036Z",
     "iopub.status.idle": "2022-08-07T16:10:23.994562Z",
     "shell.execute_reply": "2022-08-07T16:10:23.993686Z"
    },
    "papermill": {
     "duration": 0.033702,
     "end_time": "2022-08-07T16:10:23.996879",
     "exception": false,
     "start_time": "2022-08-07T16:10:23.963177",
     "status": "completed"
    },
    "tags": []
   },
   "outputs": [
    {
     "data": {
      "text/plain": [
       "0.0"
      ]
     },
     "execution_count": 48,
     "metadata": {},
     "output_type": "execute_result"
    }
   ],
   "source": [
    "test_df['jun_vbc_3g'].mode()[0]"
   ]
  },
  {
   "cell_type": "code",
   "execution_count": 49,
   "id": "1bd056cc",
   "metadata": {
    "execution": {
     "iopub.execute_input": "2022-08-07T16:10:24.043250Z",
     "iopub.status.busy": "2022-08-07T16:10:24.042551Z",
     "iopub.status.idle": "2022-08-07T16:10:24.189981Z",
     "shell.execute_reply": "2022-08-07T16:10:24.188831Z"
    },
    "papermill": {
     "duration": 0.174079,
     "end_time": "2022-08-07T16:10:24.193047",
     "exception": false,
     "start_time": "2022-08-07T16:10:24.018968",
     "status": "completed"
    },
    "tags": []
   },
   "outputs": [],
   "source": [
    "for col in test_df.columns:\n",
    "    null_col = test_df[col].isnull().sum() / test_df.shape[0] * 100\n",
    "    if null_col > 0:\n",
    "        test_df[col] = test_df[col].fillna(test_df[col].mode()[0])"
   ]
  },
  {
   "cell_type": "code",
   "execution_count": 50,
   "id": "bfe39ea7",
   "metadata": {
    "execution": {
     "iopub.execute_input": "2022-08-07T16:10:24.239156Z",
     "iopub.status.busy": "2022-08-07T16:10:24.238758Z",
     "iopub.status.idle": "2022-08-07T16:10:24.254798Z",
     "shell.execute_reply": "2022-08-07T16:10:24.253624Z"
    },
    "papermill": {
     "duration": 0.041979,
     "end_time": "2022-08-07T16:10:24.257188",
     "exception": false,
     "start_time": "2022-08-07T16:10:24.215209",
     "status": "completed"
    },
    "tags": []
   },
   "outputs": [
    {
     "data": {
      "text/plain": [
       "0"
      ]
     },
     "execution_count": 50,
     "metadata": {},
     "output_type": "execute_result"
    }
   ],
   "source": [
    "test_df.isnull().sum().sum()"
   ]
  },
  {
   "cell_type": "code",
   "execution_count": 51,
   "id": "92a17f0e",
   "metadata": {
    "execution": {
     "iopub.execute_input": "2022-08-07T16:10:24.303319Z",
     "iopub.status.busy": "2022-08-07T16:10:24.302616Z",
     "iopub.status.idle": "2022-08-07T16:10:24.342103Z",
     "shell.execute_reply": "2022-08-07T16:10:24.341047Z"
    },
    "papermill": {
     "duration": 0.065207,
     "end_time": "2022-08-07T16:10:24.344684",
     "exception": false,
     "start_time": "2022-08-07T16:10:24.279477",
     "status": "completed"
    },
    "tags": []
   },
   "outputs": [],
   "source": [
    "final_normalized_x_test = pd.DataFrame(scaler.transform(test_df),columns = test_df.columns)"
   ]
  },
  {
   "cell_type": "code",
   "execution_count": 52,
   "id": "b95d6f53",
   "metadata": {
    "execution": {
     "iopub.execute_input": "2022-08-07T16:10:24.391568Z",
     "iopub.status.busy": "2022-08-07T16:10:24.390482Z",
     "iopub.status.idle": "2022-08-07T16:10:25.182995Z",
     "shell.execute_reply": "2022-08-07T16:10:25.181998Z"
    },
    "papermill": {
     "duration": 0.818267,
     "end_time": "2022-08-07T16:10:25.185627",
     "exception": false,
     "start_time": "2022-08-07T16:10:24.367360",
     "status": "completed"
    },
    "tags": []
   },
   "outputs": [],
   "source": [
    "probabilities = rf.predict(final_normalized_x_test)"
   ]
  },
  {
   "cell_type": "code",
   "execution_count": 53,
   "id": "46497afb",
   "metadata": {
    "execution": {
     "iopub.execute_input": "2022-08-07T16:10:25.232420Z",
     "iopub.status.busy": "2022-08-07T16:10:25.231987Z",
     "iopub.status.idle": "2022-08-07T16:10:25.238214Z",
     "shell.execute_reply": "2022-08-07T16:10:25.237446Z"
    },
    "papermill": {
     "duration": 0.030956,
     "end_time": "2022-08-07T16:10:25.240153",
     "exception": false,
     "start_time": "2022-08-07T16:10:25.209197",
     "status": "completed"
    },
    "tags": []
   },
   "outputs": [
    {
     "data": {
      "text/plain": [
       "(30000,)"
      ]
     },
     "execution_count": 53,
     "metadata": {},
     "output_type": "execute_result"
    }
   ],
   "source": [
    "probabilities.shape"
   ]
  },
  {
   "cell_type": "code",
   "execution_count": 54,
   "id": "00de6d94",
   "metadata": {
    "execution": {
     "iopub.execute_input": "2022-08-07T16:10:25.286157Z",
     "iopub.status.busy": "2022-08-07T16:10:25.285025Z",
     "iopub.status.idle": "2022-08-07T16:10:25.291221Z",
     "shell.execute_reply": "2022-08-07T16:10:25.290442Z"
    },
    "papermill": {
     "duration": 0.031489,
     "end_time": "2022-08-07T16:10:25.293636",
     "exception": false,
     "start_time": "2022-08-07T16:10:25.262147",
     "status": "completed"
    },
    "tags": []
   },
   "outputs": [
    {
     "data": {
      "text/plain": [
       "30000"
      ]
     },
     "execution_count": 54,
     "metadata": {},
     "output_type": "execute_result"
    }
   ],
   "source": [
    "len(a)"
   ]
  },
  {
   "cell_type": "code",
   "execution_count": 55,
   "id": "c18945f0",
   "metadata": {
    "execution": {
     "iopub.execute_input": "2022-08-07T16:10:25.339667Z",
     "iopub.status.busy": "2022-08-07T16:10:25.338592Z",
     "iopub.status.idle": "2022-08-07T16:10:25.348181Z",
     "shell.execute_reply": "2022-08-07T16:10:25.347335Z"
    },
    "papermill": {
     "duration": 0.034568,
     "end_time": "2022-08-07T16:10:25.350292",
     "exception": false,
     "start_time": "2022-08-07T16:10:25.315724",
     "status": "completed"
    },
    "tags": []
   },
   "outputs": [
    {
     "data": {
      "text/html": [
       "<div>\n",
       "<style scoped>\n",
       "    .dataframe tbody tr th:only-of-type {\n",
       "        vertical-align: middle;\n",
       "    }\n",
       "\n",
       "    .dataframe tbody tr th {\n",
       "        vertical-align: top;\n",
       "    }\n",
       "\n",
       "    .dataframe thead th {\n",
       "        text-align: right;\n",
       "    }\n",
       "</style>\n",
       "<table border=\"1\" class=\"dataframe\">\n",
       "  <thead>\n",
       "    <tr style=\"text-align: right;\">\n",
       "      <th></th>\n",
       "      <th>id</th>\n",
       "      <th>churn_probability</th>\n",
       "    </tr>\n",
       "  </thead>\n",
       "  <tbody>\n",
       "    <tr>\n",
       "      <th>0</th>\n",
       "      <td>69999</td>\n",
       "      <td>0</td>\n",
       "    </tr>\n",
       "    <tr>\n",
       "      <th>1</th>\n",
       "      <td>70000</td>\n",
       "      <td>0</td>\n",
       "    </tr>\n",
       "    <tr>\n",
       "      <th>2</th>\n",
       "      <td>70001</td>\n",
       "      <td>1</td>\n",
       "    </tr>\n",
       "    <tr>\n",
       "      <th>3</th>\n",
       "      <td>70002</td>\n",
       "      <td>0</td>\n",
       "    </tr>\n",
       "    <tr>\n",
       "      <th>4</th>\n",
       "      <td>70003</td>\n",
       "      <td>0</td>\n",
       "    </tr>\n",
       "  </tbody>\n",
       "</table>\n",
       "</div>"
      ],
      "text/plain": [
       "      id  churn_probability\n",
       "0  69999                  0\n",
       "1  70000                  0\n",
       "2  70001                  1\n",
       "3  70002                  0\n",
       "4  70003                  0"
      ]
     },
     "execution_count": 55,
     "metadata": {},
     "output_type": "execute_result"
    }
   ],
   "source": [
    "sol_df.head()"
   ]
  },
  {
   "cell_type": "code",
   "execution_count": 56,
   "id": "4786eeaf",
   "metadata": {
    "execution": {
     "iopub.execute_input": "2022-08-07T16:10:25.398036Z",
     "iopub.status.busy": "2022-08-07T16:10:25.396895Z",
     "iopub.status.idle": "2022-08-07T16:10:25.403273Z",
     "shell.execute_reply": "2022-08-07T16:10:25.402190Z"
    },
    "papermill": {
     "duration": 0.03278,
     "end_time": "2022-08-07T16:10:25.405800",
     "exception": false,
     "start_time": "2022-08-07T16:10:25.373020",
     "status": "completed"
    },
    "tags": []
   },
   "outputs": [],
   "source": [
    "submission = pd.DataFrame({'id':a,'churn_probability':probabilities})"
   ]
  },
  {
   "cell_type": "code",
   "execution_count": 57,
   "id": "2afe98a9",
   "metadata": {
    "execution": {
     "iopub.execute_input": "2022-08-07T16:10:25.452657Z",
     "iopub.status.busy": "2022-08-07T16:10:25.451443Z",
     "iopub.status.idle": "2022-08-07T16:10:25.490958Z",
     "shell.execute_reply": "2022-08-07T16:10:25.489786Z"
    },
    "papermill": {
     "duration": 0.065568,
     "end_time": "2022-08-07T16:10:25.493911",
     "exception": false,
     "start_time": "2022-08-07T16:10:25.428343",
     "status": "completed"
    },
    "tags": []
   },
   "outputs": [],
   "source": [
    "submission.to_csv('Submission1.csv',index=False)"
   ]
  },
  {
   "cell_type": "markdown",
   "id": "a3dee58d",
   "metadata": {
    "papermill": {
     "duration": 0.021414,
     "end_time": "2022-08-07T16:10:25.537214",
     "exception": false,
     "start_time": "2022-08-07T16:10:25.515800",
     "status": "completed"
    },
    "tags": []
   },
   "source": []
  },
  {
   "cell_type": "markdown",
   "id": "cdb0e788",
   "metadata": {
    "papermill": {
     "duration": 0.021573,
     "end_time": "2022-08-07T16:10:25.580609",
     "exception": false,
     "start_time": "2022-08-07T16:10:25.559036",
     "status": "completed"
    },
    "tags": []
   },
   "source": [
    "<a href=\"Submission1.csv\"> Download Submission File </a>"
   ]
  },
  {
   "cell_type": "code",
   "execution_count": null,
   "id": "e825a254",
   "metadata": {
    "papermill": {
     "duration": 0.021312,
     "end_time": "2022-08-07T16:10:25.623970",
     "exception": false,
     "start_time": "2022-08-07T16:10:25.602658",
     "status": "completed"
    },
    "tags": []
   },
   "outputs": [],
   "source": []
  },
  {
   "cell_type": "markdown",
   "id": "d5d59881",
   "metadata": {
    "papermill": {
     "duration": 0.021344,
     "end_time": "2022-08-07T16:10:25.667032",
     "exception": false,
     "start_time": "2022-08-07T16:10:25.645688",
     "status": "completed"
    },
    "tags": []
   },
   "source": []
  }
 ],
 "metadata": {
  "kernelspec": {
   "display_name": "Python 3",
   "language": "python",
   "name": "python3"
  },
  "language_info": {
   "codemirror_mode": {
    "name": "ipython",
    "version": 3
   },
   "file_extension": ".py",
   "mimetype": "text/x-python",
   "name": "python",
   "nbconvert_exporter": "python",
   "pygments_lexer": "ipython3",
   "version": "3.7.12"
  },
  "papermill": {
   "default_parameters": {},
   "duration": 77.968577,
   "end_time": "2022-08-07T16:10:26.510988",
   "environment_variables": {},
   "exception": null,
   "input_path": "__notebook__.ipynb",
   "output_path": "__notebook__.ipynb",
   "parameters": {},
   "start_time": "2022-08-07T16:09:08.542411",
   "version": "2.3.4"
  }
 },
 "nbformat": 4,
 "nbformat_minor": 5
}
